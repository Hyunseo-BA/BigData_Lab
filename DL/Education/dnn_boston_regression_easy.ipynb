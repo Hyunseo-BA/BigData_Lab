{
  "nbformat": 4,
  "nbformat_minor": 0,
  "metadata": {
    "colab": {
      "name": "dnn_boston_regression_easy.ipynb",
      "provenance": [],
      "collapsed_sections": [],
      "include_colab_link": true
    },
    "kernelspec": {
      "name": "python3",
      "display_name": "Python 3"
    }
  },
  "cells": [
    {
      "cell_type": "markdown",
      "metadata": {
        "id": "view-in-github",
        "colab_type": "text"
      },
      "source": [
        "<a href=\"https://colab.research.google.com/github/Hyunseo-BA/BigData_Lab/blob/master/dnn_boston_regression_easy.ipynb\" target=\"_parent\"><img src=\"https://colab.research.google.com/assets/colab-badge.svg\" alt=\"Open In Colab\"/></a>"
      ]
    },
    {
      "cell_type": "markdown",
      "metadata": {
        "id": "-lIHS38rLR9c",
        "colab_type": "text"
      },
      "source": [
        "#### 데이터 불러오기"
      ]
    },
    {
      "cell_type": "code",
      "metadata": {
        "id": "SaYA9bQX7p5h",
        "colab_type": "code",
        "colab": {}
      },
      "source": [
        "from tensorflow.keras.datasets import boston_housing"
      ],
      "execution_count": 1,
      "outputs": []
    },
    {
      "cell_type": "code",
      "metadata": {
        "id": "za9Feddqv5_R",
        "colab_type": "code",
        "colab": {
          "base_uri": "https://localhost:8080/",
          "height": 52
        },
        "outputId": "94021228-96df-4ce5-df28-6d8cacbd9d50"
      },
      "source": [
        "(train_data, train_targets), (test_data, test_targets) =  boston_housing.load_data()"
      ],
      "execution_count": 2,
      "outputs": [
        {
          "output_type": "stream",
          "text": [
            "Downloading data from https://storage.googleapis.com/tensorflow/tf-keras-datasets/boston_housing.npz\n",
            "57344/57026 [==============================] - 0s 0us/step\n"
          ],
          "name": "stdout"
        }
      ]
    },
    {
      "cell_type": "code",
      "metadata": {
        "id": "xd4zlFN8EQRn",
        "colab_type": "code",
        "colab": {
          "base_uri": "https://localhost:8080/",
          "height": 53
        },
        "outputId": "fc62c66d-1632-4ec3-9211-da42012f9745"
      },
      "source": [
        "print('train data shape:', train_data.shape)\n",
        "print('test data shape:', test_data.shape)"
      ],
      "execution_count": null,
      "outputs": [
        {
          "output_type": "stream",
          "text": [
            "train data shape: (404, 13)\n",
            "test data shape: (102, 13)\n"
          ],
          "name": "stdout"
        }
      ]
    },
    {
      "cell_type": "code",
      "metadata": {
        "id": "r9Jc68a5EkpH",
        "colab_type": "code",
        "colab": {
          "base_uri": "https://localhost:8080/",
          "height": 35
        },
        "outputId": "62785307-426f-409d-bffd-b8832445d091"
      },
      "source": [
        "# 집 값이 타겟변수(연속형 숫자)\n",
        "train_targets.shape"
      ],
      "execution_count": null,
      "outputs": [
        {
          "output_type": "execute_result",
          "data": {
            "text/plain": [
              "(404,)"
            ]
          },
          "metadata": {
            "tags": []
          },
          "execution_count": 5
        }
      ]
    },
    {
      "cell_type": "markdown",
      "metadata": {
        "id": "7aBddE_WNDiY",
        "colab_type": "text"
      },
      "source": [
        "#### 회귀 예측 모델링"
      ]
    },
    {
      "cell_type": "code",
      "metadata": {
        "id": "CrRr_hWSR80N",
        "colab_type": "code",
        "colab": {}
      },
      "source": [
        "from tensorflow.keras import models, layers"
      ],
      "execution_count": null,
      "outputs": []
    },
    {
      "cell_type": "code",
      "metadata": {
        "id": "Ap0bE4hXErI3",
        "colab_type": "code",
        "colab": {}
      },
      "source": [
        "model = models.Sequential()\n",
        "model.add(layers.Dense(64, activation='relu',\n",
        "                       input_shape=(13,))) # 입력 변수가 13개 \n",
        "model.add(layers.Dense(64, activation='relu'))\n",
        "model.add(layers.Dense(1))\n"
      ],
      "execution_count": null,
      "outputs": []
    },
    {
      "cell_type": "code",
      "metadata": {
        "id": "ukB24PBeHa0Z",
        "colab_type": "code",
        "colab": {
          "base_uri": "https://localhost:8080/",
          "height": 268
        },
        "outputId": "03510fa2-0dae-40a5-a8f4-ccb87e37888c"
      },
      "source": [
        "model.summary()"
      ],
      "execution_count": null,
      "outputs": [
        {
          "output_type": "stream",
          "text": [
            "Model: \"sequential_1\"\n",
            "_________________________________________________________________\n",
            "Layer (type)                 Output Shape              Param #   \n",
            "=================================================================\n",
            "dense (Dense)                (None, 64)                896       \n",
            "_________________________________________________________________\n",
            "dense_1 (Dense)              (None, 64)                4160      \n",
            "_________________________________________________________________\n",
            "dense_2 (Dense)              (None, 1)                 65        \n",
            "=================================================================\n",
            "Total params: 5,121\n",
            "Trainable params: 5,121\n",
            "Non-trainable params: 0\n",
            "_________________________________________________________________\n"
          ],
          "name": "stdout"
        }
      ]
    },
    {
      "cell_type": "code",
      "metadata": {
        "id": "TwYxvTN8Ey5v",
        "colab_type": "code",
        "colab": {}
      },
      "source": [
        "model.compile(optimizer='rmsprop',\n",
        "              loss='mse', # 회귀 시 손실함수 Mean Squared Error\n",
        "              metrics=['mae']) # Mean Absolute Error"
      ],
      "execution_count": null,
      "outputs": []
    },
    {
      "cell_type": "code",
      "metadata": {
        "id": "m1YzbzNBFBWm",
        "colab_type": "code",
        "colab": {
          "base_uri": "https://localhost:8080/",
          "height": 1000
        },
        "outputId": "aaf0b751-c82c-4ba7-c0e8-a45fc18b980e"
      },
      "source": [
        "history = model.fit(train_data, train_targets,\n",
        "                    epochs=100,\n",
        "                    batch_size=1)"
      ],
      "execution_count": null,
      "outputs": [
        {
          "output_type": "stream",
          "text": [
            "Epoch 1/100\n",
            "404/404 [==============================] - 0s 1ms/step - loss: 165.5997 - mae: 9.7467\n",
            "Epoch 2/100\n",
            "404/404 [==============================] - 0s 1ms/step - loss: 114.0297 - mae: 7.6272\n",
            "Epoch 3/100\n",
            "404/404 [==============================] - 0s 1ms/step - loss: 102.2102 - mae: 7.3814\n",
            "Epoch 4/100\n",
            "404/404 [==============================] - 0s 1ms/step - loss: 84.1105 - mae: 6.7186\n",
            "Epoch 5/100\n",
            "404/404 [==============================] - 0s 1ms/step - loss: 72.0997 - mae: 6.2920\n",
            "Epoch 6/100\n",
            "404/404 [==============================] - 0s 1ms/step - loss: 65.5198 - mae: 5.8727\n",
            "Epoch 7/100\n",
            "404/404 [==============================] - 0s 1ms/step - loss: 59.6268 - mae: 5.6971\n",
            "Epoch 8/100\n",
            "404/404 [==============================] - 0s 1ms/step - loss: 55.0641 - mae: 5.5113\n",
            "Epoch 9/100\n",
            "404/404 [==============================] - 0s 1ms/step - loss: 54.2543 - mae: 5.3410\n",
            "Epoch 10/100\n",
            "404/404 [==============================] - 0s 1ms/step - loss: 48.6528 - mae: 5.2599\n",
            "Epoch 11/100\n",
            "404/404 [==============================] - 0s 1ms/step - loss: 47.3583 - mae: 5.0693\n",
            "Epoch 12/100\n",
            "404/404 [==============================] - 0s 1ms/step - loss: 44.0340 - mae: 4.7714\n",
            "Epoch 13/100\n",
            "404/404 [==============================] - 0s 1ms/step - loss: 42.2574 - mae: 4.7605\n",
            "Epoch 14/100\n",
            "404/404 [==============================] - 0s 1ms/step - loss: 42.0600 - mae: 4.8043\n",
            "Epoch 15/100\n",
            "404/404 [==============================] - 0s 1ms/step - loss: 39.7578 - mae: 4.5735\n",
            "Epoch 16/100\n",
            "404/404 [==============================] - 0s 1ms/step - loss: 35.9812 - mae: 4.4344\n",
            "Epoch 17/100\n",
            "404/404 [==============================] - 0s 1ms/step - loss: 33.6974 - mae: 4.1455\n",
            "Epoch 18/100\n",
            "404/404 [==============================] - 0s 1ms/step - loss: 30.5894 - mae: 4.1293\n",
            "Epoch 19/100\n",
            "404/404 [==============================] - 0s 1ms/step - loss: 31.6465 - mae: 4.0582\n",
            "Epoch 20/100\n",
            "404/404 [==============================] - 0s 1ms/step - loss: 31.4862 - mae: 4.1271\n",
            "Epoch 21/100\n",
            "404/404 [==============================] - 0s 1ms/step - loss: 29.6805 - mae: 3.9401\n",
            "Epoch 22/100\n",
            "404/404 [==============================] - 0s 1ms/step - loss: 28.1555 - mae: 3.8047\n",
            "Epoch 23/100\n",
            "404/404 [==============================] - 0s 1ms/step - loss: 26.9503 - mae: 3.7894\n",
            "Epoch 24/100\n",
            "404/404 [==============================] - 0s 1ms/step - loss: 26.0764 - mae: 3.8439\n",
            "Epoch 25/100\n",
            "404/404 [==============================] - 0s 1ms/step - loss: 25.5418 - mae: 3.7316\n",
            "Epoch 26/100\n",
            "404/404 [==============================] - 0s 1ms/step - loss: 24.6250 - mae: 3.6870\n",
            "Epoch 27/100\n",
            "404/404 [==============================] - 0s 1ms/step - loss: 23.7298 - mae: 3.5026\n",
            "Epoch 28/100\n",
            "404/404 [==============================] - 0s 1ms/step - loss: 23.5037 - mae: 3.4821\n",
            "Epoch 29/100\n",
            "404/404 [==============================] - 0s 1ms/step - loss: 24.5798 - mae: 3.5685\n",
            "Epoch 30/100\n",
            "404/404 [==============================] - 0s 1ms/step - loss: 23.9051 - mae: 3.5036\n",
            "Epoch 31/100\n",
            "404/404 [==============================] - 0s 1ms/step - loss: 22.5528 - mae: 3.5077\n",
            "Epoch 32/100\n",
            "404/404 [==============================] - 0s 1ms/step - loss: 21.0722 - mae: 3.3702\n",
            "Epoch 33/100\n",
            "404/404 [==============================] - 0s 1ms/step - loss: 23.6364 - mae: 3.5667\n",
            "Epoch 34/100\n",
            "404/404 [==============================] - 0s 1ms/step - loss: 22.0184 - mae: 3.2962\n",
            "Epoch 35/100\n",
            "404/404 [==============================] - 0s 1ms/step - loss: 21.6319 - mae: 3.3789\n",
            "Epoch 36/100\n",
            "404/404 [==============================] - 0s 1ms/step - loss: 21.5246 - mae: 3.3230\n",
            "Epoch 37/100\n",
            "404/404 [==============================] - 0s 1ms/step - loss: 22.0177 - mae: 3.4230\n",
            "Epoch 38/100\n",
            "404/404 [==============================] - 0s 1ms/step - loss: 21.4859 - mae: 3.2159\n",
            "Epoch 39/100\n",
            "404/404 [==============================] - 0s 1ms/step - loss: 20.3168 - mae: 3.2380\n",
            "Epoch 40/100\n",
            "404/404 [==============================] - 0s 1ms/step - loss: 19.8873 - mae: 3.1669\n",
            "Epoch 41/100\n",
            "404/404 [==============================] - 0s 1ms/step - loss: 21.9247 - mae: 3.3420\n",
            "Epoch 42/100\n",
            "404/404 [==============================] - 0s 1ms/step - loss: 21.3743 - mae: 3.3019\n",
            "Epoch 43/100\n",
            "404/404 [==============================] - 0s 1ms/step - loss: 22.1078 - mae: 3.2676\n",
            "Epoch 44/100\n",
            "404/404 [==============================] - 0s 1ms/step - loss: 21.0643 - mae: 3.2408\n",
            "Epoch 45/100\n",
            "404/404 [==============================] - 0s 1ms/step - loss: 21.3686 - mae: 3.3194\n",
            "Epoch 46/100\n",
            "404/404 [==============================] - 0s 1ms/step - loss: 21.7695 - mae: 3.2352\n",
            "Epoch 47/100\n",
            "404/404 [==============================] - 0s 1ms/step - loss: 20.6913 - mae: 3.0865\n",
            "Epoch 48/100\n",
            "404/404 [==============================] - 0s 1ms/step - loss: 21.2722 - mae: 3.3210\n",
            "Epoch 49/100\n",
            "404/404 [==============================] - 0s 1ms/step - loss: 20.5703 - mae: 3.2274\n",
            "Epoch 50/100\n",
            "404/404 [==============================] - 0s 1ms/step - loss: 19.0238 - mae: 3.1169\n",
            "Epoch 51/100\n",
            "404/404 [==============================] - 0s 1ms/step - loss: 20.0883 - mae: 3.0939\n",
            "Epoch 52/100\n",
            "404/404 [==============================] - 0s 1ms/step - loss: 20.3872 - mae: 3.2183\n",
            "Epoch 53/100\n",
            "404/404 [==============================] - 0s 1ms/step - loss: 20.3049 - mae: 3.2045\n",
            "Epoch 54/100\n",
            "404/404 [==============================] - 0s 1ms/step - loss: 18.6745 - mae: 3.1124\n",
            "Epoch 55/100\n",
            "404/404 [==============================] - 0s 1ms/step - loss: 20.5509 - mae: 3.0889\n",
            "Epoch 56/100\n",
            "404/404 [==============================] - 0s 1ms/step - loss: 20.3927 - mae: 3.2003\n",
            "Epoch 57/100\n",
            "404/404 [==============================] - 0s 1ms/step - loss: 19.5629 - mae: 3.0394\n",
            "Epoch 58/100\n",
            "404/404 [==============================] - 0s 1ms/step - loss: 18.8406 - mae: 2.9813\n",
            "Epoch 59/100\n",
            "404/404 [==============================] - 0s 1ms/step - loss: 18.7212 - mae: 3.0225\n",
            "Epoch 60/100\n",
            "404/404 [==============================] - 0s 1ms/step - loss: 19.6204 - mae: 3.1055\n",
            "Epoch 61/100\n",
            "404/404 [==============================] - 0s 1ms/step - loss: 20.1585 - mae: 3.1661\n",
            "Epoch 62/100\n",
            "404/404 [==============================] - 0s 1ms/step - loss: 17.8142 - mae: 3.0971\n",
            "Epoch 63/100\n",
            "404/404 [==============================] - 0s 1ms/step - loss: 17.3978 - mae: 3.0708\n",
            "Epoch 64/100\n",
            "404/404 [==============================] - 0s 1ms/step - loss: 20.5507 - mae: 3.1465\n",
            "Epoch 65/100\n",
            "404/404 [==============================] - 0s 1ms/step - loss: 18.5201 - mae: 3.0901\n",
            "Epoch 66/100\n",
            "404/404 [==============================] - 0s 1ms/step - loss: 18.9426 - mae: 3.0140\n",
            "Epoch 67/100\n",
            "404/404 [==============================] - 0s 1ms/step - loss: 18.5118 - mae: 3.0396\n",
            "Epoch 68/100\n",
            "404/404 [==============================] - 0s 1ms/step - loss: 18.8282 - mae: 3.0771\n",
            "Epoch 69/100\n",
            "404/404 [==============================] - 0s 1ms/step - loss: 18.1679 - mae: 2.9539\n",
            "Epoch 70/100\n",
            "404/404 [==============================] - 0s 1ms/step - loss: 17.2153 - mae: 2.9546\n",
            "Epoch 71/100\n",
            "404/404 [==============================] - 0s 1ms/step - loss: 19.2503 - mae: 3.0835\n",
            "Epoch 72/100\n",
            "404/404 [==============================] - 0s 1ms/step - loss: 15.3223 - mae: 2.9261\n",
            "Epoch 73/100\n",
            "404/404 [==============================] - 0s 1ms/step - loss: 18.2251 - mae: 3.0570\n",
            "Epoch 74/100\n",
            "404/404 [==============================] - 0s 1ms/step - loss: 17.3152 - mae: 2.9027\n",
            "Epoch 75/100\n",
            "404/404 [==============================] - 0s 1ms/step - loss: 18.8140 - mae: 3.1221\n",
            "Epoch 76/100\n",
            "404/404 [==============================] - 0s 1ms/step - loss: 18.0938 - mae: 2.9081\n",
            "Epoch 77/100\n",
            "404/404 [==============================] - 0s 1ms/step - loss: 17.8058 - mae: 3.0287\n",
            "Epoch 78/100\n",
            "404/404 [==============================] - 0s 1ms/step - loss: 17.7487 - mae: 2.9639\n",
            "Epoch 79/100\n",
            "404/404 [==============================] - 0s 1ms/step - loss: 19.5509 - mae: 3.0647\n",
            "Epoch 80/100\n",
            "404/404 [==============================] - 0s 1ms/step - loss: 17.5883 - mae: 2.9761\n",
            "Epoch 81/100\n",
            "404/404 [==============================] - 0s 1ms/step - loss: 16.5502 - mae: 2.8912\n",
            "Epoch 82/100\n",
            "404/404 [==============================] - 0s 1ms/step - loss: 17.5689 - mae: 2.9260\n",
            "Epoch 83/100\n",
            "404/404 [==============================] - 0s 1ms/step - loss: 16.0105 - mae: 2.8153\n",
            "Epoch 84/100\n",
            "404/404 [==============================] - 0s 1ms/step - loss: 18.7683 - mae: 2.9717\n",
            "Epoch 85/100\n",
            "404/404 [==============================] - 0s 1ms/step - loss: 16.9722 - mae: 2.9452\n",
            "Epoch 86/100\n",
            "404/404 [==============================] - 0s 1ms/step - loss: 17.2602 - mae: 2.9182\n",
            "Epoch 87/100\n",
            "404/404 [==============================] - 0s 1ms/step - loss: 17.9166 - mae: 2.9535\n",
            "Epoch 88/100\n",
            "404/404 [==============================] - 0s 1ms/step - loss: 17.5662 - mae: 2.8583\n",
            "Epoch 89/100\n",
            "404/404 [==============================] - 0s 1ms/step - loss: 17.5142 - mae: 2.9069\n",
            "Epoch 90/100\n",
            "404/404 [==============================] - 0s 1ms/step - loss: 15.9288 - mae: 2.8508\n",
            "Epoch 91/100\n",
            "404/404 [==============================] - 0s 1ms/step - loss: 18.2677 - mae: 3.0020\n",
            "Epoch 92/100\n",
            "404/404 [==============================] - 0s 1ms/step - loss: 16.7591 - mae: 2.8489\n",
            "Epoch 93/100\n",
            "404/404 [==============================] - 0s 1ms/step - loss: 16.5624 - mae: 2.8660\n",
            "Epoch 94/100\n",
            "404/404 [==============================] - 0s 1ms/step - loss: 17.1442 - mae: 2.8905\n",
            "Epoch 95/100\n",
            "404/404 [==============================] - 0s 1ms/step - loss: 16.7851 - mae: 2.9880\n",
            "Epoch 96/100\n",
            "404/404 [==============================] - 0s 1ms/step - loss: 16.3637 - mae: 2.7198\n",
            "Epoch 97/100\n",
            "404/404 [==============================] - 0s 1ms/step - loss: 17.0535 - mae: 2.9169\n",
            "Epoch 98/100\n",
            "404/404 [==============================] - 0s 1ms/step - loss: 17.0100 - mae: 2.9122\n",
            "Epoch 99/100\n",
            "404/404 [==============================] - 0s 1ms/step - loss: 17.6412 - mae: 2.9330\n",
            "Epoch 100/100\n",
            "404/404 [==============================] - 0s 1ms/step - loss: 17.2253 - mae: 2.8723\n"
          ],
          "name": "stdout"
        }
      ]
    },
    {
      "cell_type": "markdown",
      "metadata": {
        "id": "Ljw86-6hNLGJ",
        "colab_type": "text"
      },
      "source": [
        "#### 모델 성능 평가"
      ]
    },
    {
      "cell_type": "code",
      "metadata": {
        "id": "muyntjXlFeA_",
        "colab_type": "code",
        "colab": {}
      },
      "source": [
        "mae = history.history['mae']\n",
        "loss = history.history['loss']\n",
        "\n",
        "epochs = range(len(mae))"
      ],
      "execution_count": null,
      "outputs": []
    },
    {
      "cell_type": "code",
      "metadata": {
        "id": "6HgFd1nbHXZl",
        "colab_type": "code",
        "colab": {}
      },
      "source": [
        "import matplotlib.pyplot as plt"
      ],
      "execution_count": null,
      "outputs": []
    },
    {
      "cell_type": "code",
      "metadata": {
        "id": "BFT9uOuiHgyU",
        "colab_type": "code",
        "colab": {
          "base_uri": "https://localhost:8080/",
          "height": 281
        },
        "outputId": "7b987c74-bb69-4290-e8e6-12bd75abd65a"
      },
      "source": [
        "plt.plot(epochs, mae, 'bo', label='Training mae')\n",
        "plt.title('Training and validation mae')\n",
        "plt.legend()\n",
        "\n",
        "plt.show()"
      ],
      "execution_count": null,
      "outputs": [
        {
          "output_type": "display_data",
          "data": {
            "image/png": "[encoded data removed]",
            "text/plain": [
              "<Figure size 432x288 with 1 Axes>"
            ]
          },
          "metadata": {
            "tags": [],
            "needs_background": "light"
          }
        }
      ]
    },
    {
      "cell_type": "code",
      "metadata": {
        "id": "rLD8kGX2HkCt",
        "colab_type": "code",
        "colab": {
          "base_uri": "https://localhost:8080/",
          "height": 281
        },
        "outputId": "7302962e-62d5-419e-b542-6a42d4f9a6cb"
      },
      "source": [
        "plt.plot(epochs, loss, 'bo', label='Training loss')\n",
        "plt.title('Training and validation loss')\n",
        "plt.legend()\n",
        "\n",
        "plt.show()"
      ],
      "execution_count": null,
      "outputs": [
        {
          "output_type": "display_data",
          "data": {
            "image/png": "[encoded data removed]",
            "text/plain": [
              "<Figure size 432x288 with 1 Axes>"
            ]
          },
          "metadata": {
            "tags": [],
            "needs_background": "light"
          }
        }
      ]
    },
    {
      "cell_type": "code",
      "metadata": {
        "id": "-hrz--f9IEoU",
        "colab_type": "code",
        "colab": {
          "base_uri": "https://localhost:8080/",
          "height": 35
        },
        "outputId": "8e4f5f00-46a4-4e85-904b-557668344fc4"
      },
      "source": [
        "test_mse_score, test_mae_score = model.evaluate(test_data, test_targets)"
      ],
      "execution_count": null,
      "outputs": [
        {
          "output_type": "stream",
          "text": [
            "4/4 [==============================] - 0s 2ms/step - loss: 24.9146 - mae: 3.5839\n"
          ],
          "name": "stdout"
        }
      ]
    }
  ]
}
