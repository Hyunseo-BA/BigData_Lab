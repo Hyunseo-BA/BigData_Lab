{
  "nbformat": 4,
  "nbformat_minor": 0,
  "metadata": {
    "colab": {
      "name": "dnn_boston_regression.ipynb",
      "provenance": [],
      "collapsed_sections": [],
      "include_colab_link": true
    },
    "kernelspec": {
      "name": "python3",
      "display_name": "Python 3"
    }
  },
  "cells": [
    {
      "cell_type": "markdown",
      "metadata": {
        "id": "view-in-github",
        "colab_type": "text"
      },
      "source": [
        "<a href=\"https://colab.research.google.com/github/Hyunseo-BA/BigData_Lab/blob/master/dnn_boston_regression_standardization.ipynb\" target=\"_parent\"><img src=\"https://colab.research.google.com/assets/colab-badge.svg\" alt=\"Open In Colab\"/></a>"
      ]
    },
    {
      "cell_type": "code",
      "metadata": {
        "id": "SaYA9bQX7p5h",
        "colab_type": "code",
        "colab": {
          "base_uri": "https://localhost:8080/",
          "height": 52
        },
        "outputId": "e2eabc64-4829-4a06-d7cc-561a4b5b3020"
      },
      "source": [
        "from tensorflow.keras.datasets import boston_housing\n",
        "\n",
        "(train_data, train_targets), (test_data, test_targets) =  boston_housing.load_data()"
      ],
      "execution_count": 1,
      "outputs": [
        {
          "output_type": "stream",
          "text": [
            "Downloading data from https://storage.googleapis.com/tensorflow/tf-keras-datasets/boston_housing.npz\n",
            "57344/57026 [==============================] - 0s 0us/step\n"
          ],
          "name": "stdout"
        }
      ]
    },
    {
      "cell_type": "code",
      "metadata": {
        "id": "xd4zlFN8EQRn",
        "colab_type": "code",
        "colab": {
          "base_uri": "https://localhost:8080/",
          "height": 52
        },
        "outputId": "a20e8aec-d320-4ba3-8e22-2ec981aa3a1f"
      },
      "source": [
        "print('train data shape:', train_data.shape)\n",
        "print('rest data shape:', test_data.shape)"
      ],
      "execution_count": 2,
      "outputs": [
        {
          "output_type": "stream",
          "text": [
            "train data shape: (404, 13)\n",
            "rest data shape: (102, 13)\n"
          ],
          "name": "stdout"
        }
      ]
    },
    {
      "cell_type": "code",
      "metadata": {
        "id": "r9Jc68a5EkpH",
        "colab_type": "code",
        "colab": {
          "base_uri": "https://localhost:8080/",
          "height": 34
        },
        "outputId": "98c87cc0-ee64-4d5d-8ee3-7cc2fcce77b7"
      },
      "source": [
        "train_targets[0]"
      ],
      "execution_count": 3,
      "outputs": [
        {
          "output_type": "execute_result",
          "data": {
            "text/plain": [
              "15.2"
            ]
          },
          "metadata": {
            "tags": []
          },
          "execution_count": 3
        }
      ]
    },
    {
      "cell_type": "markdown",
      "metadata": {
        "id": "EQln1U-uNnXh",
        "colab_type": "text"
      },
      "source": [
        "#### 학습 데이터 표준화"
      ]
    },
    {
      "cell_type": "code",
      "metadata": {
        "id": "LQrsGmS8EnL_",
        "colab_type": "code",
        "colab": {}
      },
      "source": [
        "mean = train_data.mean(axis=0)\n",
        "train_data -= mean\n",
        "std = train_data.std(axis=0)\n",
        "train_data /= std\n",
        "\n",
        "test_data -= mean\n",
        "test_data /= std"
      ],
      "execution_count": 4,
      "outputs": []
    },
    {
      "cell_type": "code",
      "metadata": {
        "id": "9Vi1xMGzN56Y",
        "colab_type": "code",
        "colab": {
          "base_uri": "https://localhost:8080/",
          "height": 87
        },
        "outputId": "f588be8e-a5fa-491b-ca03-371cdb2d1f58"
      },
      "source": [
        "print(train_data.mean(axis=0),\n",
        "      train_data.std(axis=0))"
      ],
      "execution_count": 5,
      "outputs": [
        {
          "output_type": "stream",
          "text": [
            "[-1.01541438e-16  1.09923072e-17  1.80933376e-15 -7.80453809e-17\n",
            " -5.25047552e-15  6.43187374e-15  2.98441140e-16  4.94653823e-16\n",
            "  1.12671149e-17 -1.05526149e-16  2.36614908e-14  5.96710525e-15\n",
            "  6.13920356e-16] [1. 1. 1. 1. 1. 1. 1. 1. 1. 1. 1. 1. 1.]\n"
          ],
          "name": "stdout"
        }
      ]
    },
    {
      "cell_type": "code",
      "metadata": {
        "id": "L1tziJU8uH5x",
        "colab_type": "code",
        "colab": {}
      },
      "source": [
        "from tensorflow.keras import models, layers"
      ],
      "execution_count": null,
      "outputs": []
    },
    {
      "cell_type": "code",
      "metadata": {
        "id": "Ap0bE4hXErI3",
        "colab_type": "code",
        "colab": {}
      },
      "source": [
        "model = models.Sequential()\n",
        "model.add(layers.Dense(64, activation='relu',\n",
        "                           input_shape=(train_data.shape[1],)))\n",
        "model.add(layers.Dense(64, activation='relu'))\n",
        "model.add(layers.Dense(1))"
      ],
      "execution_count": null,
      "outputs": []
    },
    {
      "cell_type": "code",
      "metadata": {
        "id": "ukB24PBeHa0Z",
        "colab_type": "code",
        "colab": {
          "base_uri": "https://localhost:8080/",
          "height": 273
        },
        "outputId": "78e8f280-887b-425f-d4ce-08c2146347b5"
      },
      "source": [
        "model.summary()\n",
        "\n",
        "# dense_2의 파라미터 수가 65인 이유는, 1개의 바이어스가 파라미터 수에 더 해짐"
      ],
      "execution_count": null,
      "outputs": [
        {
          "output_type": "stream",
          "text": [
            "Model: \"sequential\"\n",
            "_________________________________________________________________\n",
            "Layer (type)                 Output Shape              Param #   \n",
            "=================================================================\n",
            "dense (Dense)                (None, 64)                896       \n",
            "_________________________________________________________________\n",
            "dense_1 (Dense)              (None, 64)                4160      \n",
            "_________________________________________________________________\n",
            "dense_2 (Dense)              (None, 1)                 65        \n",
            "=================================================================\n",
            "Total params: 5,121\n",
            "Trainable params: 5,121\n",
            "Non-trainable params: 0\n",
            "_________________________________________________________________\n"
          ],
          "name": "stdout"
        }
      ]
    },
    {
      "cell_type": "code",
      "metadata": {
        "id": "TwYxvTN8Ey5v",
        "colab_type": "code",
        "colab": {}
      },
      "source": [
        "model.compile(optimizer='rmsprop',\n",
        "              loss='mse',\n",
        "              metrics=['mae'])"
      ],
      "execution_count": null,
      "outputs": []
    },
    {
      "cell_type": "code",
      "metadata": {
        "id": "m1YzbzNBFBWm",
        "colab_type": "code",
        "colab": {
          "base_uri": "https://localhost:8080/",
          "height": 1000
        },
        "outputId": "58138799-99c6-4421-f616-46bf545c1b43"
      },
      "source": [
        "history = model.fit(train_data, train_targets,\n",
        "                    epochs=100,\n",
        "                    batch_size=1,\n",
        "                    validation_split=0.2) # 검증 데이터 =  학습 데이터 중 20%"
      ],
      "execution_count": null,
      "outputs": [
        {
          "output_type": "stream",
          "text": [
            "Epoch 1/100\n",
            "323/323 [==============================] - 1s 2ms/step - loss: 158.8704 - mae: 9.0837 - val_loss: 38.5409 - val_mae: 4.5048\n",
            "Epoch 2/100\n",
            "323/323 [==============================] - 0s 2ms/step - loss: 28.8593 - mae: 3.5761 - val_loss: 22.2158 - val_mae: 3.5265\n",
            "Epoch 3/100\n",
            "323/323 [==============================] - 0s 2ms/step - loss: 20.1762 - mae: 2.9696 - val_loss: 17.2450 - val_mae: 3.0969\n",
            "Epoch 4/100\n",
            "323/323 [==============================] - 0s 1ms/step - loss: 17.4428 - mae: 2.7607 - val_loss: 15.4348 - val_mae: 2.8238\n",
            "Epoch 5/100\n",
            "323/323 [==============================] - 0s 2ms/step - loss: 14.9060 - mae: 2.5521 - val_loss: 13.2704 - val_mae: 2.7483\n",
            "Epoch 6/100\n",
            "323/323 [==============================] - 0s 2ms/step - loss: 13.3024 - mae: 2.4123 - val_loss: 13.0364 - val_mae: 2.8284\n",
            "Epoch 7/100\n",
            "323/323 [==============================] - 0s 1ms/step - loss: 12.4809 - mae: 2.3697 - val_loss: 11.7725 - val_mae: 2.5801\n",
            "Epoch 8/100\n",
            "323/323 [==============================] - 0s 1ms/step - loss: 12.2930 - mae: 2.3664 - val_loss: 15.5436 - val_mae: 2.9626\n",
            "Epoch 9/100\n",
            "323/323 [==============================] - 0s 1ms/step - loss: 11.4326 - mae: 2.2261 - val_loss: 12.0248 - val_mae: 2.7135\n",
            "Epoch 10/100\n",
            "323/323 [==============================] - 0s 1ms/step - loss: 11.0237 - mae: 2.2220 - val_loss: 12.9910 - val_mae: 2.8754\n",
            "Epoch 11/100\n",
            "323/323 [==============================] - 1s 2ms/step - loss: 10.8166 - mae: 2.1842 - val_loss: 10.2986 - val_mae: 2.4609\n",
            "Epoch 12/100\n",
            "323/323 [==============================] - 1s 2ms/step - loss: 10.2502 - mae: 2.1655 - val_loss: 12.1894 - val_mae: 2.7922\n",
            "Epoch 13/100\n",
            "323/323 [==============================] - 0s 2ms/step - loss: 9.6199 - mae: 2.0976 - val_loss: 12.2154 - val_mae: 2.7943\n",
            "Epoch 14/100\n",
            "323/323 [==============================] - 0s 1ms/step - loss: 10.3699 - mae: 2.0791 - val_loss: 10.8985 - val_mae: 2.4041\n",
            "Epoch 15/100\n",
            "323/323 [==============================] - 0s 1ms/step - loss: 9.8296 - mae: 2.0722 - val_loss: 11.7940 - val_mae: 2.5682\n",
            "Epoch 16/100\n",
            "323/323 [==============================] - 0s 1ms/step - loss: 9.7423 - mae: 2.0346 - val_loss: 11.7282 - val_mae: 2.5619\n",
            "Epoch 17/100\n",
            "323/323 [==============================] - 0s 1ms/step - loss: 9.3197 - mae: 1.9303 - val_loss: 11.1771 - val_mae: 2.5076\n",
            "Epoch 18/100\n",
            "323/323 [==============================] - 0s 2ms/step - loss: 8.8308 - mae: 1.9948 - val_loss: 13.1411 - val_mae: 2.7373\n",
            "Epoch 19/100\n",
            "323/323 [==============================] - 0s 1ms/step - loss: 9.1786 - mae: 1.9435 - val_loss: 13.1227 - val_mae: 2.7731\n",
            "Epoch 20/100\n",
            "323/323 [==============================] - 1s 2ms/step - loss: 8.5982 - mae: 1.9188 - val_loss: 12.7981 - val_mae: 2.5658\n",
            "Epoch 21/100\n",
            "323/323 [==============================] - 0s 1ms/step - loss: 8.2352 - mae: 1.9218 - val_loss: 17.6404 - val_mae: 3.4336\n",
            "Epoch 22/100\n",
            "323/323 [==============================] - 0s 1ms/step - loss: 8.3837 - mae: 1.9087 - val_loss: 15.8556 - val_mae: 2.8164\n",
            "Epoch 23/100\n",
            "323/323 [==============================] - 0s 2ms/step - loss: 8.4494 - mae: 1.9358 - val_loss: 14.8036 - val_mae: 2.6692\n",
            "Epoch 24/100\n",
            "323/323 [==============================] - 0s 1ms/step - loss: 7.9861 - mae: 1.9281 - val_loss: 11.7187 - val_mae: 2.4251\n",
            "Epoch 25/100\n",
            "323/323 [==============================] - 0s 2ms/step - loss: 8.0627 - mae: 1.8580 - val_loss: 12.6973 - val_mae: 2.5441\n",
            "Epoch 26/100\n",
            "323/323 [==============================] - 0s 1ms/step - loss: 7.8340 - mae: 1.8915 - val_loss: 12.6463 - val_mae: 2.6967\n",
            "Epoch 27/100\n",
            "323/323 [==============================] - 0s 1ms/step - loss: 8.3409 - mae: 1.8333 - val_loss: 11.7575 - val_mae: 2.4828\n",
            "Epoch 28/100\n",
            "323/323 [==============================] - 0s 1ms/step - loss: 8.0576 - mae: 1.8376 - val_loss: 12.1236 - val_mae: 2.5236\n",
            "Epoch 29/100\n",
            "323/323 [==============================] - 0s 1ms/step - loss: 7.7716 - mae: 1.8456 - val_loss: 12.6307 - val_mae: 2.7030\n",
            "Epoch 30/100\n",
            "323/323 [==============================] - 1s 2ms/step - loss: 7.5830 - mae: 1.7854 - val_loss: 12.0224 - val_mae: 2.5749\n",
            "Epoch 31/100\n",
            "323/323 [==============================] - 1s 2ms/step - loss: 7.4237 - mae: 1.7817 - val_loss: 11.2784 - val_mae: 2.4251\n",
            "Epoch 32/100\n",
            "323/323 [==============================] - 0s 2ms/step - loss: 7.5309 - mae: 1.7657 - val_loss: 13.2461 - val_mae: 2.4431\n",
            "Epoch 33/100\n",
            "323/323 [==============================] - 0s 2ms/step - loss: 7.0246 - mae: 1.7588 - val_loss: 11.7315 - val_mae: 2.6036\n",
            "Epoch 34/100\n",
            "323/323 [==============================] - 1s 2ms/step - loss: 7.2178 - mae: 1.7572 - val_loss: 12.5413 - val_mae: 2.4427\n",
            "Epoch 35/100\n",
            "323/323 [==============================] - 1s 2ms/step - loss: 6.4412 - mae: 1.6822 - val_loss: 15.5160 - val_mae: 2.8176\n",
            "Epoch 36/100\n",
            "323/323 [==============================] - 1s 2ms/step - loss: 6.9139 - mae: 1.7719 - val_loss: 12.4229 - val_mae: 2.4942\n",
            "Epoch 37/100\n",
            "323/323 [==============================] - 1s 2ms/step - loss: 7.0463 - mae: 1.7008 - val_loss: 12.2885 - val_mae: 2.4395\n",
            "Epoch 38/100\n",
            "323/323 [==============================] - 1s 2ms/step - loss: 6.7358 - mae: 1.7287 - val_loss: 12.6350 - val_mae: 2.5808\n",
            "Epoch 39/100\n",
            "323/323 [==============================] - 1s 2ms/step - loss: 6.8702 - mae: 1.7372 - val_loss: 13.4382 - val_mae: 2.5654\n",
            "Epoch 40/100\n",
            "323/323 [==============================] - 1s 2ms/step - loss: 6.2548 - mae: 1.6803 - val_loss: 11.9957 - val_mae: 2.4947\n",
            "Epoch 41/100\n",
            "323/323 [==============================] - 0s 1ms/step - loss: 6.7012 - mae: 1.6116 - val_loss: 12.5982 - val_mae: 2.4667\n",
            "Epoch 42/100\n",
            "323/323 [==============================] - 0s 1ms/step - loss: 6.5202 - mae: 1.7575 - val_loss: 13.9442 - val_mae: 2.6563\n",
            "Epoch 43/100\n",
            "323/323 [==============================] - 0s 1ms/step - loss: 6.5983 - mae: 1.7063 - val_loss: 11.4726 - val_mae: 2.4021\n",
            "Epoch 44/100\n",
            "323/323 [==============================] - 0s 1ms/step - loss: 6.4166 - mae: 1.6871 - val_loss: 14.3399 - val_mae: 2.7157\n",
            "Epoch 45/100\n",
            "323/323 [==============================] - 0s 1ms/step - loss: 6.1916 - mae: 1.6515 - val_loss: 11.6144 - val_mae: 2.3714\n",
            "Epoch 46/100\n",
            "323/323 [==============================] - 0s 1ms/step - loss: 6.0801 - mae: 1.6482 - val_loss: 11.3523 - val_mae: 2.4793\n",
            "Epoch 47/100\n",
            "323/323 [==============================] - 0s 1ms/step - loss: 6.4764 - mae: 1.5655 - val_loss: 11.7331 - val_mae: 2.4956\n",
            "Epoch 48/100\n",
            "323/323 [==============================] - 1s 2ms/step - loss: 6.0986 - mae: 1.6030 - val_loss: 13.5908 - val_mae: 2.5120\n",
            "Epoch 49/100\n",
            "323/323 [==============================] - 0s 1ms/step - loss: 6.0237 - mae: 1.6124 - val_loss: 14.1320 - val_mae: 2.8286\n",
            "Epoch 50/100\n",
            "323/323 [==============================] - 0s 1ms/step - loss: 6.1320 - mae: 1.6718 - val_loss: 12.9640 - val_mae: 2.4849\n",
            "Epoch 51/100\n",
            "323/323 [==============================] - 0s 1ms/step - loss: 5.5447 - mae: 1.5588 - val_loss: 11.7893 - val_mae: 2.5902\n",
            "Epoch 52/100\n",
            "323/323 [==============================] - 0s 1ms/step - loss: 6.0203 - mae: 1.6382 - val_loss: 10.8994 - val_mae: 2.3226\n",
            "Epoch 53/100\n",
            "323/323 [==============================] - 0s 1ms/step - loss: 5.9498 - mae: 1.6168 - val_loss: 11.1102 - val_mae: 2.4009\n",
            "Epoch 54/100\n",
            "323/323 [==============================] - 0s 1ms/step - loss: 5.6732 - mae: 1.5060 - val_loss: 13.6230 - val_mae: 2.4523\n",
            "Epoch 55/100\n",
            "323/323 [==============================] - 0s 1ms/step - loss: 5.5567 - mae: 1.5558 - val_loss: 14.3841 - val_mae: 2.6016\n",
            "Epoch 56/100\n",
            "323/323 [==============================] - 0s 1ms/step - loss: 5.9265 - mae: 1.5434 - val_loss: 13.3153 - val_mae: 2.6467\n",
            "Epoch 57/100\n",
            "323/323 [==============================] - 0s 1ms/step - loss: 5.9714 - mae: 1.5767 - val_loss: 13.3835 - val_mae: 2.5659\n",
            "Epoch 58/100\n",
            "323/323 [==============================] - 0s 1ms/step - loss: 5.6012 - mae: 1.5445 - val_loss: 12.6452 - val_mae: 2.3761\n",
            "Epoch 59/100\n",
            "323/323 [==============================] - 0s 1ms/step - loss: 5.1762 - mae: 1.5785 - val_loss: 13.8432 - val_mae: 2.6659\n",
            "Epoch 60/100\n",
            "323/323 [==============================] - 0s 1ms/step - loss: 5.4212 - mae: 1.5824 - val_loss: 14.6455 - val_mae: 2.6882\n",
            "Epoch 61/100\n",
            "323/323 [==============================] - 0s 1ms/step - loss: 5.6597 - mae: 1.5530 - val_loss: 14.3952 - val_mae: 2.7349\n",
            "Epoch 62/100\n",
            "323/323 [==============================] - 0s 2ms/step - loss: 5.1576 - mae: 1.5461 - val_loss: 13.7893 - val_mae: 2.5010\n",
            "Epoch 63/100\n",
            "323/323 [==============================] - 1s 2ms/step - loss: 5.2686 - mae: 1.4993 - val_loss: 13.4152 - val_mae: 2.5578\n",
            "Epoch 64/100\n",
            "323/323 [==============================] - 0s 1ms/step - loss: 5.2233 - mae: 1.5727 - val_loss: 14.2392 - val_mae: 2.5522\n",
            "Epoch 65/100\n",
            "323/323 [==============================] - 0s 1ms/step - loss: 5.3304 - mae: 1.4826 - val_loss: 14.0290 - val_mae: 2.5502\n",
            "Epoch 66/100\n",
            "323/323 [==============================] - 0s 1ms/step - loss: 5.4237 - mae: 1.4499 - val_loss: 14.4113 - val_mae: 2.4968\n",
            "Epoch 67/100\n",
            "323/323 [==============================] - 0s 1ms/step - loss: 5.2870 - mae: 1.5229 - val_loss: 15.2200 - val_mae: 2.5523\n",
            "Epoch 68/100\n",
            "323/323 [==============================] - 0s 1ms/step - loss: 5.3214 - mae: 1.5363 - val_loss: 14.6222 - val_mae: 2.6563\n",
            "Epoch 69/100\n",
            "323/323 [==============================] - 0s 1ms/step - loss: 5.4901 - mae: 1.5124 - val_loss: 13.1892 - val_mae: 2.3562\n",
            "Epoch 70/100\n",
            "323/323 [==============================] - 0s 1ms/step - loss: 5.0334 - mae: 1.5285 - val_loss: 12.8302 - val_mae: 2.4789\n",
            "Epoch 71/100\n",
            "323/323 [==============================] - 0s 1ms/step - loss: 5.2931 - mae: 1.5302 - val_loss: 13.5313 - val_mae: 2.4144\n",
            "Epoch 72/100\n",
            "323/323 [==============================] - 0s 1ms/step - loss: 5.0029 - mae: 1.4922 - val_loss: 13.8779 - val_mae: 2.5077\n",
            "Epoch 73/100\n",
            "323/323 [==============================] - 0s 1ms/step - loss: 4.7805 - mae: 1.4439 - val_loss: 13.5098 - val_mae: 2.5257\n",
            "Epoch 74/100\n",
            "323/323 [==============================] - 0s 1ms/step - loss: 4.9080 - mae: 1.4813 - val_loss: 13.9367 - val_mae: 2.4749\n",
            "Epoch 75/100\n",
            "323/323 [==============================] - 0s 1ms/step - loss: 4.6696 - mae: 1.4305 - val_loss: 12.9162 - val_mae: 2.3926\n",
            "Epoch 76/100\n",
            "323/323 [==============================] - 0s 1ms/step - loss: 4.8055 - mae: 1.4208 - val_loss: 14.9174 - val_mae: 2.5710\n",
            "Epoch 77/100\n",
            "323/323 [==============================] - 0s 1ms/step - loss: 4.5610 - mae: 1.4363 - val_loss: 13.3301 - val_mae: 2.4853\n",
            "Epoch 78/100\n",
            "323/323 [==============================] - 0s 1ms/step - loss: 4.3273 - mae: 1.3404 - val_loss: 16.6539 - val_mae: 2.7330\n",
            "Epoch 79/100\n",
            "323/323 [==============================] - 0s 1ms/step - loss: 4.8850 - mae: 1.4518 - val_loss: 13.4041 - val_mae: 2.5037\n",
            "Epoch 80/100\n",
            "323/323 [==============================] - 0s 1ms/step - loss: 4.6041 - mae: 1.3841 - val_loss: 14.7354 - val_mae: 2.4682\n",
            "Epoch 81/100\n",
            "323/323 [==============================] - 0s 1ms/step - loss: 4.5932 - mae: 1.4322 - val_loss: 13.0185 - val_mae: 2.4292\n",
            "Epoch 82/100\n",
            "323/323 [==============================] - 0s 1ms/step - loss: 4.7826 - mae: 1.4139 - val_loss: 12.9040 - val_mae: 2.3683\n",
            "Epoch 83/100\n",
            "323/323 [==============================] - 0s 2ms/step - loss: 4.5532 - mae: 1.4066 - val_loss: 13.6652 - val_mae: 2.5268\n",
            "Epoch 84/100\n",
            "323/323 [==============================] - 0s 1ms/step - loss: 4.4327 - mae: 1.4328 - val_loss: 14.4299 - val_mae: 2.5573\n",
            "Epoch 85/100\n",
            "323/323 [==============================] - 0s 1ms/step - loss: 4.5387 - mae: 1.3838 - val_loss: 14.1386 - val_mae: 2.4980\n",
            "Epoch 86/100\n",
            "323/323 [==============================] - 0s 1ms/step - loss: 4.5540 - mae: 1.3865 - val_loss: 16.0259 - val_mae: 2.8408\n",
            "Epoch 87/100\n",
            "323/323 [==============================] - 0s 1ms/step - loss: 4.4549 - mae: 1.3929 - val_loss: 12.2825 - val_mae: 2.3734\n",
            "Epoch 88/100\n",
            "323/323 [==============================] - 0s 1ms/step - loss: 4.5423 - mae: 1.4444 - val_loss: 14.8337 - val_mae: 2.6914\n",
            "Epoch 89/100\n",
            "323/323 [==============================] - 0s 2ms/step - loss: 4.7078 - mae: 1.4090 - val_loss: 15.9570 - val_mae: 2.6041\n",
            "Epoch 90/100\n",
            "323/323 [==============================] - 0s 1ms/step - loss: 4.0780 - mae: 1.4105 - val_loss: 12.6167 - val_mae: 2.3601\n",
            "Epoch 91/100\n",
            "323/323 [==============================] - 0s 1ms/step - loss: 4.4143 - mae: 1.4067 - val_loss: 15.3676 - val_mae: 2.4739\n",
            "Epoch 92/100\n",
            "323/323 [==============================] - 0s 1ms/step - loss: 4.5183 - mae: 1.4017 - val_loss: 14.4385 - val_mae: 2.4807\n",
            "Epoch 93/100\n",
            "323/323 [==============================] - 0s 1ms/step - loss: 4.4174 - mae: 1.3587 - val_loss: 16.0749 - val_mae: 2.6295\n",
            "Epoch 94/100\n",
            "323/323 [==============================] - 0s 1ms/step - loss: 4.4131 - mae: 1.3846 - val_loss: 12.5033 - val_mae: 2.2898\n",
            "Epoch 95/100\n",
            "323/323 [==============================] - 0s 1ms/step - loss: 4.1963 - mae: 1.3783 - val_loss: 14.5101 - val_mae: 2.7259\n",
            "Epoch 96/100\n",
            "323/323 [==============================] - 0s 1ms/step - loss: 4.3933 - mae: 1.3301 - val_loss: 12.5492 - val_mae: 2.3924\n",
            "Epoch 97/100\n",
            "323/323 [==============================] - 0s 1ms/step - loss: 4.0779 - mae: 1.3033 - val_loss: 13.2666 - val_mae: 2.5971\n",
            "Epoch 98/100\n",
            "323/323 [==============================] - 0s 1ms/step - loss: 4.2878 - mae: 1.3652 - val_loss: 14.7285 - val_mae: 2.3818\n",
            "Epoch 99/100\n",
            "323/323 [==============================] - 0s 1ms/step - loss: 4.5502 - mae: 1.3598 - val_loss: 12.5390 - val_mae: 2.2882\n",
            "Epoch 100/100\n",
            "323/323 [==============================] - 0s 1ms/step - loss: 3.9610 - mae: 1.3645 - val_loss: 11.1915 - val_mae: 2.2877\n"
          ],
          "name": "stdout"
        }
      ]
    },
    {
      "cell_type": "code",
      "metadata": {
        "id": "muyntjXlFeA_",
        "colab_type": "code",
        "colab": {}
      },
      "source": [
        "mae = history.history['mae']\n",
        "val_mae = history.history['val_mae']\n",
        "\n",
        "loss = history.history['loss']\n",
        "val_loss = history.history['val_loss']\n",
        "\n",
        "epochs = range(len(mae))"
      ],
      "execution_count": null,
      "outputs": []
    },
    {
      "cell_type": "code",
      "metadata": {
        "id": "6HgFd1nbHXZl",
        "colab_type": "code",
        "colab": {}
      },
      "source": [
        "import matplotlib.pyplot as plt"
      ],
      "execution_count": null,
      "outputs": []
    },
    {
      "cell_type": "code",
      "metadata": {
        "id": "BFT9uOuiHgyU",
        "colab_type": "code",
        "colab": {
          "base_uri": "https://localhost:8080/",
          "height": 281
        },
        "outputId": "4f3cd661-54b1-4615-e4b5-f538710ed149"
      },
      "source": [
        "plt.plot(epochs, mae, 'bo', label='Training mae')\n",
        "plt.plot(epochs, val_mae, 'b', label='Validation mae')\n",
        "plt.title('Training and validation mae')\n",
        "plt.legend()\n",
        "\n",
        "plt.show()"
      ],
      "execution_count": null,
      "outputs": [
        {
          "output_type": "display_data",
          "data": {
            "image/png": "[encoded data removed]",
            "text/plain": [
              "<Figure size 432x288 with 1 Axes>"
            ]
          },
          "metadata": {
            "tags": [],
            "needs_background": "light"
          }
        }
      ]
    },
    {
      "cell_type": "code",
      "metadata": {
        "id": "rLD8kGX2HkCt",
        "colab_type": "code",
        "colab": {
          "base_uri": "https://localhost:8080/",
          "height": 281
        },
        "outputId": "69b39b48-3dd1-40c8-b9a5-0a45cdc1758b"
      },
      "source": [
        "plt.plot(epochs, loss, 'bo', label='Training loss')\n",
        "plt.plot(epochs, val_loss, 'b', label='Validation loss')\n",
        "plt.title('Training and validation loss')\n",
        "plt.legend()\n",
        "\n",
        "plt.show()"
      ],
      "execution_count": null,
      "outputs": [
        {
          "output_type": "display_data",
          "data": {
            "image/png": "[encoded data removed]",
            "text/plain": [
              "<Figure size 432x288 with 1 Axes>"
            ]
          },
          "metadata": {
            "tags": [],
            "needs_background": "light"
          }
        }
      ]
    },
    {
      "cell_type": "code",
      "metadata": {
        "id": "-hrz--f9IEoU",
        "colab_type": "code",
        "colab": {
          "base_uri": "https://localhost:8080/",
          "height": 35
        },
        "outputId": "4774c970-3cb4-4566-8dc9-98a3e2031694"
      },
      "source": [
        "test_mse_score, test_mae_score = model.evaluate(test_data, test_targets)"
      ],
      "execution_count": null,
      "outputs": [
        {
          "output_type": "stream",
          "text": [
            "4/4 [==============================] - 0s 3ms/step - loss: 15.3350 - mae: 2.6930\n"
          ],
          "name": "stdout"
        }
      ]
    }
  ]
}
