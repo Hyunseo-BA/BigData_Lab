{
  "nbformat": 4,
  "nbformat_minor": 0,
  "metadata": {
    "colab": {
      "name": "dnn_mnist_classification_easy.ipynb",
      "provenance": [],
      "collapsed_sections": [],
      "include_colab_link": true
    },
    "kernelspec": {
      "name": "python3",
      "display_name": "Python 3"
    },
    "accelerator": "GPU"
  },
  "cells": [
    {
      "cell_type": "markdown",
      "metadata": {
        "id": "view-in-github",
        "colab_type": "text"
      },
      "source": [
        "<a href=\"https://colab.research.google.com/github/Hyunseo-BA/BigData_Lab/blob/master/dnn_mnist_classification_easy.ipynb\" target=\"_parent\"><img src=\"https://colab.research.google.com/assets/colab-badge.svg\" alt=\"Open In Colab\"/></a>"
      ]
    },
    {
      "cell_type": "code",
      "metadata": {
        "id": "kyj-z565YV6S",
        "colab_type": "code",
        "colab": {}
      },
      "source": [
        "import tensorflow as tf"
      ],
      "execution_count": null,
      "outputs": []
    },
    {
      "cell_type": "code",
      "metadata": {
        "id": "Ayw2Fwe5YbPH",
        "colab_type": "code",
        "colab": {
          "base_uri": "https://localhost:8080/",
          "height": 35
        },
        "outputId": "5d62441a-f0d2-4265-e23e-8442ea217a31"
      },
      "source": [
        "print(tf.__version__)"
      ],
      "execution_count": null,
      "outputs": [
        {
          "output_type": "stream",
          "text": [
            "2.2.0\n"
          ],
          "name": "stdout"
        }
      ]
    },
    {
      "cell_type": "markdown",
      "metadata": {
        "id": "Tzf56GOByBJr",
        "colab_type": "text"
      },
      "source": [
        "#### 코랩에서 GPU사용시 그래픽카드 확인방법\n"
      ]
    },
    {
      "cell_type": "code",
      "metadata": {
        "id": "e_u3iSr_YsmT",
        "colab_type": "code",
        "colab": {
          "base_uri": "https://localhost:8080/",
          "height": 383
        },
        "outputId": "bd6a64a1-f33a-4e90-8309-a6b410783a1e"
      },
      "source": [
        "!nvidia-smi"
      ],
      "execution_count": null,
      "outputs": [
        {
          "output_type": "stream",
          "text": [
            "Mon Jul 13 06:08:00 2020       \n",
            "+-----------------------------------------------------------------------------+\n",
            "| NVIDIA-SMI 450.36.06    Driver Version: 418.67       CUDA Version: 10.1     |\n",
            "|-------------------------------+----------------------+----------------------+\n",
            "| GPU  Name        Persistence-M| Bus-Id        Disp.A | Volatile Uncorr. ECC |\n",
            "| Fan  Temp  Perf  Pwr:Usage/Cap|         Memory-Usage | GPU-Util  Compute M. |\n",
            "|                               |                      |               MIG M. |\n",
            "|===============================+======================+======================|\n",
            "|   0  Tesla P100-PCIE...  Off  | 00000000:00:04.0 Off |                    0 |\n",
            "| N/A   33C    P0    25W / 250W |      0MiB / 16280MiB |      0%      Default |\n",
            "|                               |                      |                 ERR! |\n",
            "+-------------------------------+----------------------+----------------------+\n",
            "                                                                               \n",
            "+-----------------------------------------------------------------------------+\n",
            "| Processes:                                                                  |\n",
            "|  GPU   GI   CI        PID   Type   Process name                  GPU Memory |\n",
            "|        ID   ID                                                   Usage      |\n",
            "|=============================================================================|\n",
            "|  No running processes found                                                 |\n",
            "+-----------------------------------------------------------------------------+\n"
          ],
          "name": "stdout"
        }
      ]
    },
    {
      "cell_type": "markdown",
      "metadata": {
        "id": "6v7n1-wnE_qg",
        "colab_type": "text"
      },
      "source": [
        "#### 데이터 불러오기"
      ]
    },
    {
      "cell_type": "code",
      "metadata": {
        "id": "Ef8vm3RO1rrU",
        "colab_type": "code",
        "colab": {}
      },
      "source": [
        "from tensorflow.keras.datasets import mnist\n",
        "import matplotlib.pyplot as plt"
      ],
      "execution_count": null,
      "outputs": []
    },
    {
      "cell_type": "code",
      "metadata": {
        "id": "FagQoa3n3HQ4",
        "colab_type": "code",
        "colab": {
          "base_uri": "https://localhost:8080/",
          "height": 73
        },
        "outputId": "350f48ba-55ab-4628-b563-2e55ac607b08"
      },
      "source": [
        "(train_images, train_labels), (test_images, test_labels) = mnist.load_data()"
      ],
      "execution_count": null,
      "outputs": [
        {
          "output_type": "stream",
          "text": [
            "Downloading data from https://storage.googleapis.com/tensorflow/tf-keras-datasets/mnist.npz\n",
            "11493376/11490434 [==============================] - 0s 0us/step\n"
          ],
          "name": "stdout"
        }
      ]
    },
    {
      "cell_type": "markdown",
      "metadata": {
        "id": "rFwDI55nFMdA",
        "colab_type": "text"
      },
      "source": [
        "#### 불러온 데이터 형태 및 실제 이미지 확인"
      ]
    },
    {
      "cell_type": "code",
      "metadata": {
        "id": "T-i6lXs8DGyg",
        "colab_type": "code",
        "colab": {
          "base_uri": "https://localhost:8080/",
          "height": 90
        },
        "outputId": "f34b03bf-7ff9-4ca7-b7cb-a0ca1f9c6de7"
      },
      "source": [
        "print(train_images.shape)\n",
        "print(train_labels.shape)\n",
        "\n",
        "print(test_images.shape)\n",
        "print(test_labels.shape)"
      ],
      "execution_count": null,
      "outputs": [
        {
          "output_type": "stream",
          "text": [
            "(60000, 28, 28)\n",
            "(60000,)\n",
            "(10000, 28, 28)\n",
            "(10000,)\n"
          ],
          "name": "stdout"
        }
      ]
    },
    {
      "cell_type": "code",
      "metadata": {
        "id": "1YLPJZ_bDjuk",
        "colab_type": "code",
        "colab": {
          "base_uri": "https://localhost:8080/",
          "height": 35
        },
        "outputId": "41a5dfa4-ad2b-4a80-e479-d95fc3e80aeb"
      },
      "source": [
        "train_labels[0]"
      ],
      "execution_count": null,
      "outputs": [
        {
          "output_type": "execute_result",
          "data": {
            "text/plain": [
              "5"
            ]
          },
          "metadata": {
            "tags": []
          },
          "execution_count": 6
        }
      ]
    },
    {
      "cell_type": "code",
      "metadata": {
        "id": "uMFvHjgV3pxl",
        "colab_type": "code",
        "colab": {
          "base_uri": "https://localhost:8080/",
          "height": 265
        },
        "outputId": "628ba11f-01c4-4f37-8b8d-93dcd13522c7"
      },
      "source": [
        "plt.figure()\n",
        "plt.imshow(train_images[0])\n",
        "plt.colorbar()\n",
        "plt.grid(False)\n",
        "plt.show()"
      ],
      "execution_count": null,
      "outputs": [
        {
          "output_type": "display_data",
          "data": {
            "image/png": "[encoded data removed]",
            "text/plain": [
              "<Figure size 432x288 with 2 Axes>"
            ]
          },
          "metadata": {
            "tags": [],
            "needs_background": "light"
          }
        }
      ]
    },
    {
      "cell_type": "markdown",
      "metadata": {
        "id": "xL_-Zw6VFTMu",
        "colab_type": "text"
      },
      "source": [
        "#### 분류를 위한 DNN 모델링"
      ]
    },
    {
      "cell_type": "code",
      "metadata": {
        "id": "EFB35ZRu37XG",
        "colab_type": "code",
        "colab": {}
      },
      "source": [
        "from tensorflow.keras import models, layers"
      ],
      "execution_count": null,
      "outputs": []
    },
    {
      "cell_type": "code",
      "metadata": {
        "id": "vE6VIPbL4Okf",
        "colab_type": "code",
        "colab": {}
      },
      "source": [
        "model = models.Sequential()\n",
        "model.add(layers.Flatten(input_shape=(28,28)))\n",
        "model.add(layers.Dense(units=512, activation='relu'))\n",
        "model.add(layers.Dense(units=10, activation='softmax'))"
      ],
      "execution_count": null,
      "outputs": []
    },
    {
      "cell_type": "code",
      "metadata": {
        "id": "Wc5A0Ucz4tNW",
        "colab_type": "code",
        "colab": {
          "base_uri": "https://localhost:8080/",
          "height": 273
        },
        "outputId": "50ef3f8c-106d-48f4-ca66-048eef83ca8a"
      },
      "source": [
        "model.summary()"
      ],
      "execution_count": null,
      "outputs": [
        {
          "output_type": "stream",
          "text": [
            "Model: \"sequential\"\n",
            "_________________________________________________________________\n",
            "Layer (type)                 Output Shape              Param #   \n",
            "=================================================================\n",
            "flatten (Flatten)            (None, 784)               0         \n",
            "_________________________________________________________________\n",
            "dense (Dense)                (None, 512)               401920    \n",
            "_________________________________________________________________\n",
            "dense_1 (Dense)              (None, 10)                5130      \n",
            "=================================================================\n",
            "Total params: 407,050\n",
            "Trainable params: 407,050\n",
            "Non-trainable params: 0\n",
            "_________________________________________________________________\n"
          ],
          "name": "stdout"
        }
      ]
    },
    {
      "cell_type": "code",
      "metadata": {
        "id": "UruvLv1a4ufe",
        "colab_type": "code",
        "colab": {}
      },
      "source": [
        "model.compile(optimizer='rmsprop',\n",
        "              loss='sparse_categorical_crossentropy',\n",
        "              metrics=['accuracy'])"
      ],
      "execution_count": null,
      "outputs": []
    },
    {
      "cell_type": "code",
      "metadata": {
        "id": "8AJEYEcW5I-l",
        "colab_type": "code",
        "colab": {
          "base_uri": "https://localhost:8080/",
          "height": 1000
        },
        "outputId": "6518d2b9-2d8d-4279-945b-21a212fd0b67"
      },
      "source": [
        "history = model.fit(x=train_images, y=train_labels,\n",
        "                    epochs=30,\n",
        "                    batch_size=128)"
      ],
      "execution_count": null,
      "outputs": [
        {
          "output_type": "stream",
          "text": [
            "Epoch 1/30\n",
            "469/469 [==============================] - 1s 2ms/step - loss: 5.9139 - accuracy: 0.8994\n",
            "Epoch 2/30\n",
            "469/469 [==============================] - 1s 2ms/step - loss: 0.7068 - accuracy: 0.9527\n",
            "Epoch 3/30\n",
            "469/469 [==============================] - 1s 2ms/step - loss: 0.4575 - accuracy: 0.9658\n",
            "Epoch 4/30\n",
            "469/469 [==============================] - 1s 3ms/step - loss: 0.3907 - accuracy: 0.9707\n",
            "Epoch 5/30\n",
            "469/469 [==============================] - 1s 2ms/step - loss: 0.3257 - accuracy: 0.9759\n",
            "Epoch 6/30\n",
            "469/469 [==============================] - 1s 2ms/step - loss: 0.2916 - accuracy: 0.9801\n",
            "Epoch 7/30\n",
            "469/469 [==============================] - 1s 2ms/step - loss: 0.2656 - accuracy: 0.9821\n",
            "Epoch 8/30\n",
            "469/469 [==============================] - 1s 2ms/step - loss: 0.2335 - accuracy: 0.9837\n",
            "Epoch 9/30\n",
            "469/469 [==============================] - 1s 2ms/step - loss: 0.2111 - accuracy: 0.9862\n",
            "Epoch 10/30\n",
            "469/469 [==============================] - 1s 2ms/step - loss: 0.1874 - accuracy: 0.9875\n",
            "Epoch 11/30\n",
            "469/469 [==============================] - 1s 2ms/step - loss: 0.2030 - accuracy: 0.9880\n",
            "Epoch 12/30\n",
            "469/469 [==============================] - 1s 2ms/step - loss: 0.1975 - accuracy: 0.9884\n",
            "Epoch 13/30\n",
            "469/469 [==============================] - 1s 2ms/step - loss: 0.2026 - accuracy: 0.9895\n",
            "Epoch 14/30\n",
            "469/469 [==============================] - 1s 2ms/step - loss: 0.1555 - accuracy: 0.9907\n",
            "Epoch 15/30\n",
            "469/469 [==============================] - 1s 2ms/step - loss: 0.1732 - accuracy: 0.9907\n",
            "Epoch 16/30\n",
            "469/469 [==============================] - 1s 2ms/step - loss: 0.1545 - accuracy: 0.9916\n",
            "Epoch 17/30\n",
            "469/469 [==============================] - 1s 2ms/step - loss: 0.1330 - accuracy: 0.9928\n",
            "Epoch 18/30\n",
            "469/469 [==============================] - 1s 3ms/step - loss: 0.1443 - accuracy: 0.9924\n",
            "Epoch 19/30\n",
            "469/469 [==============================] - 1s 2ms/step - loss: 0.1403 - accuracy: 0.9935\n",
            "Epoch 20/30\n",
            "469/469 [==============================] - 1s 2ms/step - loss: 0.1187 - accuracy: 0.9939\n",
            "Epoch 21/30\n",
            "469/469 [==============================] - 1s 2ms/step - loss: 0.1298 - accuracy: 0.9939\n",
            "Epoch 22/30\n",
            "469/469 [==============================] - 1s 2ms/step - loss: 0.1027 - accuracy: 0.9947\n",
            "Epoch 23/30\n",
            "469/469 [==============================] - 1s 2ms/step - loss: 0.1048 - accuracy: 0.9951\n",
            "Epoch 24/30\n",
            "469/469 [==============================] - 1s 2ms/step - loss: 0.0987 - accuracy: 0.9950\n",
            "Epoch 25/30\n",
            "469/469 [==============================] - 1s 2ms/step - loss: 0.0979 - accuracy: 0.9951\n",
            "Epoch 26/30\n",
            "469/469 [==============================] - 1s 2ms/step - loss: 0.1003 - accuracy: 0.9946\n",
            "Epoch 27/30\n",
            "469/469 [==============================] - 1s 2ms/step - loss: 0.0838 - accuracy: 0.9954\n",
            "Epoch 28/30\n",
            "469/469 [==============================] - 1s 2ms/step - loss: 0.0829 - accuracy: 0.9959\n",
            "Epoch 29/30\n",
            "469/469 [==============================] - 1s 2ms/step - loss: 0.0698 - accuracy: 0.9964\n",
            "Epoch 30/30\n",
            "469/469 [==============================] - 1s 2ms/step - loss: 0.0703 - accuracy: 0.9966\n"
          ],
          "name": "stdout"
        }
      ]
    },
    {
      "cell_type": "markdown",
      "metadata": {
        "id": "V7MGyT0wFn_Y",
        "colab_type": "text"
      },
      "source": [
        "#### 모델 성능 평가"
      ]
    },
    {
      "cell_type": "code",
      "metadata": {
        "id": "H6T6jgh75RBV",
        "colab_type": "code",
        "colab": {}
      },
      "source": [
        "acc = history.history['accuracy']\n",
        "loss = history.history['loss']\n",
        "\n",
        "epochs = range(len(acc))"
      ],
      "execution_count": null,
      "outputs": []
    },
    {
      "cell_type": "code",
      "metadata": {
        "id": "3j7MM8fm6iE9",
        "colab_type": "code",
        "colab": {
          "base_uri": "https://localhost:8080/",
          "height": 281
        },
        "outputId": "1554f3a6-8359-49d1-8377-b142d4fda6ff"
      },
      "source": [
        "plt.plot(epochs, acc, 'bo', label='Training acc')\n",
        "plt.title('Training accuracy')\n",
        "plt.legend()\n",
        "\n",
        "plt.show()"
      ],
      "execution_count": null,
      "outputs": [
        {
          "output_type": "display_data",
          "data": {
            "image/png": "[encoded data removed]",
            "text/plain": [
              "<Figure size 432x288 with 1 Axes>"
            ]
          },
          "metadata": {
            "tags": [],
            "needs_background": "light"
          }
        }
      ]
    },
    {
      "cell_type": "code",
      "metadata": {
        "id": "HNUQvmHP6vIM",
        "colab_type": "code",
        "colab": {
          "base_uri": "https://localhost:8080/",
          "height": 281
        },
        "outputId": "28de0c16-c9d9-46a0-b6dd-0f88f10993e2"
      },
      "source": [
        "plt.plot(epochs, loss, 'bo', label='Training loss')\n",
        "plt.title('Training validation loss')\n",
        "plt.legend()\n",
        "\n",
        "plt.show()"
      ],
      "execution_count": null,
      "outputs": [
        {
          "output_type": "display_data",
          "data": {
            "image/png": "[encoded data removed]",
            "text/plain": [
              "<Figure size 432x288 with 1 Axes>"
            ]
          },
          "metadata": {
            "tags": [],
            "needs_background": "light"
          }
        }
      ]
    },
    {
      "cell_type": "code",
      "metadata": {
        "id": "eG9iJI0665am",
        "colab_type": "code",
        "colab": {
          "base_uri": "https://localhost:8080/",
          "height": 35
        },
        "outputId": "6d1ae93e-6da5-42b6-9f67-0d261e2a2ce3"
      },
      "source": [
        "test_loss, test_acc = model.evaluate(test_images, test_labels)"
      ],
      "execution_count": null,
      "outputs": [
        {
          "output_type": "stream",
          "text": [
            "313/313 [==============================] - 0s 2ms/step - loss: 1.0304 - accuracy: 0.9795\n"
          ],
          "name": "stdout"
        }
      ]
    },
    {
      "cell_type": "markdown",
      "metadata": {
        "id": "Tg8aFF4XF610",
        "colab_type": "text"
      },
      "source": [
        "#### 예측값 이미지상으로 확인"
      ]
    },
    {
      "cell_type": "code",
      "metadata": {
        "id": "-P_J7YeIF-_Z",
        "colab_type": "code",
        "colab": {}
      },
      "source": [
        "import numpy as np"
      ],
      "execution_count": null,
      "outputs": []
    },
    {
      "cell_type": "code",
      "metadata": {
        "id": "EZWpP14rGFg1",
        "colab_type": "code",
        "colab": {
          "base_uri": "https://localhost:8080/",
          "height": 53
        },
        "outputId": "51815d88-4030-4584-a915-d6ac0ee8936b"
      },
      "source": [
        "predict = model.predict(test_images[0].reshape((1, 28, 28)))\n",
        "\n",
        "print('predict probability:', predict)\n",
        "print('predict number:', np.argmax(predict))"
      ],
      "execution_count": null,
      "outputs": [
        {
          "output_type": "stream",
          "text": [
            "predict probability: [[0. 0. 0. 0. 0. 0. 0. 1. 0. 0.]]\n",
            "predict number: 7\n"
          ],
          "name": "stdout"
        }
      ]
    },
    {
      "cell_type": "code",
      "metadata": {
        "id": "G54imh60GYft",
        "colab_type": "code",
        "colab": {
          "base_uri": "https://localhost:8080/",
          "height": 265
        },
        "outputId": "29843453-2829-4837-e994-4132b2abba0f"
      },
      "source": [
        "plt.figure()\n",
        "plt.imshow(test_images[0].reshape(28, 28))\n",
        "plt.colorbar()\n",
        "plt.grid(False)\n",
        "plt.show()"
      ],
      "execution_count": null,
      "outputs": [
        {
          "output_type": "display_data",
          "data": {
            "image/png": "[encoded data removed]",
            "text/plain": [
              "<Figure size 432x288 with 2 Axes>"
            ]
          },
          "metadata": {
            "tags": [],
            "needs_background": "light"
          }
        }
      ]
    }
  ]
}
