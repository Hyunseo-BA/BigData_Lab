{
  "nbformat": 4,
  "nbformat_minor": 0,
  "metadata": {
    "colab": {
      "name": "dnn_mnist_classification_encoding&no_flatten.ipynb",
      "provenance": [],
      "collapsed_sections": [],
      "authorship_tag": "ABX9TyM6h3kCFS9x+jgvWR4+ILEQ",
      "include_colab_link": true
    },
    "kernelspec": {
      "name": "python3",
      "display_name": "Python 3"
    },
    "accelerator": "GPU"
  },
  "cells": [
    {
      "cell_type": "markdown",
      "metadata": {
        "id": "view-in-github",
        "colab_type": "text"
      },
      "source": [
        "<a href=\"https://colab.research.google.com/github/Hyunseo-BA/BigData_Lab/blob/master/dnn_mnist_classification_encoding%26no_flatten.ipynb\" target=\"_parent\"><img src=\"https://colab.research.google.com/assets/colab-badge.svg\" alt=\"Open In Colab\"/></a>"
      ]
    },
    {
      "cell_type": "code",
      "metadata": {
        "id": "R3VgSPLqzu6c",
        "colab_type": "code",
        "colab": {
          "base_uri": "https://localhost:8080/",
          "height": 353
        },
        "outputId": "ad67ce1a-a538-4c10-ff2e-495869789a12"
      },
      "source": [
        "!nvidia-smi"
      ],
      "execution_count": null,
      "outputs": [
        {
          "output_type": "stream",
          "text": [
            "Tue Jul 28 00:25:10 2020       \n",
            "+-----------------------------------------------------------------------------+\n",
            "| NVIDIA-SMI 450.51.05    Driver Version: 418.67       CUDA Version: 10.1     |\n",
            "|-------------------------------+----------------------+----------------------+\n",
            "| GPU  Name        Persistence-M| Bus-Id        Disp.A | Volatile Uncorr. ECC |\n",
            "| Fan  Temp  Perf  Pwr:Usage/Cap|         Memory-Usage | GPU-Util  Compute M. |\n",
            "|                               |                      |               MIG M. |\n",
            "|===============================+======================+======================|\n",
            "|   0  Tesla T4            Off  | 00000000:00:04.0 Off |                    0 |\n",
            "| N/A   39C    P8     9W /  70W |      0MiB / 15079MiB |      0%      Default |\n",
            "|                               |                      |                 ERR! |\n",
            "+-------------------------------+----------------------+----------------------+\n",
            "                                                                               \n",
            "+-----------------------------------------------------------------------------+\n",
            "| Processes:                                                                  |\n",
            "|  GPU   GI   CI        PID   Type   Process name                  GPU Memory |\n",
            "|        ID   ID                                                   Usage      |\n",
            "|=============================================================================|\n",
            "|  No running processes found                                                 |\n",
            "+-----------------------------------------------------------------------------+\n"
          ],
          "name": "stdout"
        }
      ]
    },
    {
      "cell_type": "code",
      "metadata": {
        "id": "SYmegzz1bPnE",
        "colab_type": "code",
        "colab": {}
      },
      "source": [
        "from tensorflow.keras.datasets import mnist\n",
        "import matplotlib.pyplot as plt"
      ],
      "execution_count": 1,
      "outputs": []
    },
    {
      "cell_type": "code",
      "metadata": {
        "id": "aEwXnaQ9cNJn",
        "colab_type": "code",
        "colab": {
          "base_uri": "https://localhost:8080/",
          "height": 52
        },
        "outputId": "b9a91105-a4fc-4bbc-918c-e40c439f4a17"
      },
      "source": [
        "(train_images, train_labels), (test_images, test_labels) = mnist.load_data()"
      ],
      "execution_count": 2,
      "outputs": [
        {
          "output_type": "stream",
          "text": [
            "Downloading data from https://storage.googleapis.com/tensorflow/tf-keras-datasets/mnist.npz\n",
            "11493376/11490434 [==============================] - 0s 0us/step\n"
          ],
          "name": "stdout"
        }
      ]
    },
    {
      "cell_type": "markdown",
      "metadata": {
        "id": "U-PU3ZKkHTCa",
        "colab_type": "text"
      },
      "source": [
        "#### 쉬운 버전과 달리 데이터의 구조를 변형시켜 3차원을 2차원으로 축소\n"
      ]
    },
    {
      "cell_type": "code",
      "metadata": {
        "id": "SpPP6V8U8BY9",
        "colab_type": "code",
        "colab": {}
      },
      "source": [
        "# 기존의 shape (x0000, 28, 28)\n",
        "train_images = train_images.reshape((60000, 28*28))\n",
        "test_images = test_images.reshape((10000, 28*28))"
      ],
      "execution_count": 3,
      "outputs": []
    },
    {
      "cell_type": "code",
      "metadata": {
        "id": "M2PJMAXNI_E7",
        "colab_type": "code",
        "colab": {
          "base_uri": "https://localhost:8080/",
          "height": 34
        },
        "outputId": "f623b036-7ccd-4382-ab97-36fcc493c7dc"
      },
      "source": [
        "train_labels[0]"
      ],
      "execution_count": 4,
      "outputs": [
        {
          "output_type": "execute_result",
          "data": {
            "text/plain": [
              "5"
            ]
          },
          "metadata": {
            "tags": []
          },
          "execution_count": 4
        }
      ]
    },
    {
      "cell_type": "markdown",
      "metadata": {
        "id": "wlZBH0GZHtqk",
        "colab_type": "text"
      },
      "source": [
        "### One-Hot Encoding\n",
        "\n",
        "##### 카테고리 종류 갯수만큼 0배열을 만듬. ex) 3종류의 범주를 갖는 경우 [ 0, 0, 0 ] \n",
        "##### 이후에 카테고리에 해당하는 순서의 0을 1로 바꿈. ex) 라벨이 0에 해당하면 [1, 0, 0]\n"
      ]
    },
    {
      "cell_type": "code",
      "metadata": {
        "id": "l0NWGImvB4nz",
        "colab_type": "code",
        "colab": {}
      },
      "source": [
        "from tensorflow.keras.utils import to_categorical\n",
        "\n",
        "train_labels = to_categorical(train_labels)\n",
        "test_labels = to_categorical(test_labels)"
      ],
      "execution_count": null,
      "outputs": []
    },
    {
      "cell_type": "code",
      "metadata": {
        "id": "_SmGGkdxcV3W",
        "colab_type": "code",
        "colab": {
          "base_uri": "https://localhost:8080/",
          "height": 34
        },
        "outputId": "4e77ec1a-f3fe-481b-d07e-7b28bc7be955"
      },
      "source": [
        "print(train_images.shape,\n",
        "      train_labels.shape,\n",
        "      test_images.shape,\n",
        "      test_labels.shape)"
      ],
      "execution_count": null,
      "outputs": [
        {
          "output_type": "stream",
          "text": [
            "(60000, 784) (60000, 10) (10000, 784) (10000, 10)\n"
          ],
          "name": "stdout"
        }
      ]
    },
    {
      "cell_type": "code",
      "metadata": {
        "id": "WIDSpn4ZCpTh",
        "colab_type": "code",
        "colab": {
          "base_uri": "https://localhost:8080/",
          "height": 34
        },
        "outputId": "1cdc47b6-ee93-4c19-e562-c1daf506ddea"
      },
      "source": [
        "# to_catergorical 이전엔 5\n",
        "# 원핫인코딩 처리 후 변형된 값\n",
        "train_labels[0]"
      ],
      "execution_count": null,
      "outputs": [
        {
          "output_type": "execute_result",
          "data": {
            "text/plain": [
              "array([0., 0., 0., 0., 0., 1., 0., 0., 0., 0.], dtype=float32)"
            ]
          },
          "metadata": {
            "tags": []
          },
          "execution_count": 33
        }
      ]
    },
    {
      "cell_type": "code",
      "metadata": {
        "id": "Z8yTROKAc2t3",
        "colab_type": "code",
        "colab": {}
      },
      "source": [
        "from tensorflow.keras import models, layers\n",
        "\n",
        "# 이미 1축으로 이루어진 이미지 픽셀이므로 Flatten레이어 불필요\n",
        "model = models.Sequential()\n",
        "model.add(layers.Dense(input_shape=(28*28, ) ,units=512, activation='relu'))\n",
        "model.add(layers.Dense(units=10, activation='softmax'))"
      ],
      "execution_count": null,
      "outputs": []
    },
    {
      "cell_type": "code",
      "metadata": {
        "id": "uLc_AYvqePZB",
        "colab_type": "code",
        "colab": {
          "base_uri": "https://localhost:8080/",
          "height": 218
        },
        "outputId": "153d096c-5b5f-45fa-8431-9aad514927d6"
      },
      "source": [
        "model.summary()\n",
        "# output shape : 레이어의 노드(퍼셉트론)의 갯수\n",
        "# Param # : 레이어의 엣지의 갯수\n",
        "# flatten : 1차원 축으로 쭉 펼침\n",
        "# Total params : 찾아야 하는 모든 가중치의 개수"
      ],
      "execution_count": null,
      "outputs": [
        {
          "output_type": "stream",
          "text": [
            "Model: \"sequential_1\"\n",
            "_________________________________________________________________\n",
            "Layer (type)                 Output Shape              Param #   \n",
            "=================================================================\n",
            "dense_2 (Dense)              (None, 512)               401920    \n",
            "_________________________________________________________________\n",
            "dense_3 (Dense)              (None, 10)                5130      \n",
            "=================================================================\n",
            "Total params: 407,050\n",
            "Trainable params: 407,050\n",
            "Non-trainable params: 0\n",
            "_________________________________________________________________\n"
          ],
          "name": "stdout"
        }
      ]
    },
    {
      "cell_type": "code",
      "metadata": {
        "id": "WMo7OzFbeUCE",
        "colab_type": "code",
        "colab": {}
      },
      "source": [
        "model.compile(optimizer = 'rmsprop',\n",
        "              loss = 'categorical_crossentropy',\n",
        "              metrics = ['accuracy'])"
      ],
      "execution_count": null,
      "outputs": []
    },
    {
      "cell_type": "code",
      "metadata": {
        "id": "5BIwUK-bfZhg",
        "colab_type": "code",
        "colab": {
          "base_uri": "https://localhost:8080/",
          "height": 1000
        },
        "outputId": "f2f2cc1a-4def-4688-d02c-5818d06eb597"
      },
      "source": [
        "history = model.fit(x=train_images, y=train_labels,\n",
        "                    epochs=30,\n",
        "                    batch_size=100,\n",
        "                    validation_split = 0.2)"
      ],
      "execution_count": null,
      "outputs": [
        {
          "output_type": "stream",
          "text": [
            "Epoch 1/30\n",
            "480/480 [==============================] - 1s 3ms/step - loss: 5.8527 - accuracy: 0.8929 - val_loss: 1.1726 - val_accuracy: 0.9331\n",
            "Epoch 2/30\n",
            "480/480 [==============================] - 1s 3ms/step - loss: 0.7707 - accuracy: 0.9496 - val_loss: 0.8738 - val_accuracy: 0.9469\n",
            "Epoch 3/30\n",
            "480/480 [==============================] - 1s 3ms/step - loss: 0.5259 - accuracy: 0.9632 - val_loss: 0.7245 - val_accuracy: 0.9567\n",
            "Epoch 4/30\n",
            "480/480 [==============================] - 1s 3ms/step - loss: 0.4232 - accuracy: 0.9707 - val_loss: 0.7694 - val_accuracy: 0.9642\n",
            "Epoch 5/30\n",
            "480/480 [==============================] - 1s 3ms/step - loss: 0.3787 - accuracy: 0.9743 - val_loss: 0.7681 - val_accuracy: 0.9667\n",
            "Epoch 6/30\n",
            "480/480 [==============================] - 1s 3ms/step - loss: 0.3059 - accuracy: 0.9791 - val_loss: 0.7902 - val_accuracy: 0.9661\n",
            "Epoch 7/30\n",
            "480/480 [==============================] - 1s 3ms/step - loss: 0.2989 - accuracy: 0.9807 - val_loss: 0.8086 - val_accuracy: 0.9682\n",
            "Epoch 8/30\n",
            "480/480 [==============================] - 1s 3ms/step - loss: 0.2566 - accuracy: 0.9833 - val_loss: 0.8082 - val_accuracy: 0.9682\n",
            "Epoch 9/30\n",
            "480/480 [==============================] - 1s 3ms/step - loss: 0.2800 - accuracy: 0.9844 - val_loss: 0.9528 - val_accuracy: 0.9710\n",
            "Epoch 10/30\n",
            "480/480 [==============================] - 1s 3ms/step - loss: 0.2325 - accuracy: 0.9861 - val_loss: 1.1985 - val_accuracy: 0.9637\n",
            "Epoch 11/30\n",
            "480/480 [==============================] - 1s 3ms/step - loss: 0.2528 - accuracy: 0.9867 - val_loss: 1.1519 - val_accuracy: 0.9665\n",
            "Epoch 12/30\n",
            "480/480 [==============================] - 1s 3ms/step - loss: 0.2098 - accuracy: 0.9884 - val_loss: 1.0112 - val_accuracy: 0.9714\n",
            "Epoch 13/30\n",
            "480/480 [==============================] - 1s 3ms/step - loss: 0.1661 - accuracy: 0.9905 - val_loss: 1.0088 - val_accuracy: 0.9721\n",
            "Epoch 14/30\n",
            "480/480 [==============================] - 1s 3ms/step - loss: 0.1591 - accuracy: 0.9909 - val_loss: 1.1832 - val_accuracy: 0.9724\n",
            "Epoch 15/30\n",
            "480/480 [==============================] - 1s 3ms/step - loss: 0.1441 - accuracy: 0.9916 - val_loss: 1.6152 - val_accuracy: 0.9628\n",
            "Epoch 16/30\n",
            "480/480 [==============================] - 1s 3ms/step - loss: 0.1778 - accuracy: 0.9908 - val_loss: 1.1231 - val_accuracy: 0.9731\n",
            "Epoch 17/30\n",
            "480/480 [==============================] - 1s 3ms/step - loss: 0.1267 - accuracy: 0.9928 - val_loss: 1.2407 - val_accuracy: 0.9703\n",
            "Epoch 18/30\n",
            "480/480 [==============================] - 1s 3ms/step - loss: 0.1580 - accuracy: 0.9926 - val_loss: 1.2275 - val_accuracy: 0.9735\n",
            "Epoch 19/30\n",
            "480/480 [==============================] - 1s 3ms/step - loss: 0.1694 - accuracy: 0.9919 - val_loss: 1.3244 - val_accuracy: 0.9718\n",
            "Epoch 20/30\n",
            "480/480 [==============================] - 1s 3ms/step - loss: 0.1314 - accuracy: 0.9935 - val_loss: 1.2660 - val_accuracy: 0.9734\n",
            "Epoch 21/30\n",
            "480/480 [==============================] - 1s 3ms/step - loss: 0.1333 - accuracy: 0.9934 - val_loss: 1.2541 - val_accuracy: 0.9752\n",
            "Epoch 22/30\n",
            "480/480 [==============================] - 1s 3ms/step - loss: 0.1094 - accuracy: 0.9944 - val_loss: 1.2558 - val_accuracy: 0.9759\n",
            "Epoch 23/30\n",
            "480/480 [==============================] - 1s 3ms/step - loss: 0.1163 - accuracy: 0.9939 - val_loss: 1.3594 - val_accuracy: 0.9773\n",
            "Epoch 24/30\n",
            "480/480 [==============================] - 1s 3ms/step - loss: 0.1316 - accuracy: 0.9936 - val_loss: 1.4254 - val_accuracy: 0.9744\n",
            "Epoch 25/30\n",
            "480/480 [==============================] - 1s 3ms/step - loss: 0.1099 - accuracy: 0.9945 - val_loss: 1.3670 - val_accuracy: 0.9737\n",
            "Epoch 26/30\n",
            "480/480 [==============================] - 1s 3ms/step - loss: 0.0911 - accuracy: 0.9953 - val_loss: 1.4741 - val_accuracy: 0.9732\n",
            "Epoch 27/30\n",
            "480/480 [==============================] - 1s 3ms/step - loss: 0.0953 - accuracy: 0.9954 - val_loss: 1.4844 - val_accuracy: 0.9748\n",
            "Epoch 28/30\n",
            "480/480 [==============================] - 1s 3ms/step - loss: 0.1054 - accuracy: 0.9955 - val_loss: 1.5260 - val_accuracy: 0.9746\n",
            "Epoch 29/30\n",
            "480/480 [==============================] - 1s 3ms/step - loss: 0.1017 - accuracy: 0.9951 - val_loss: 1.7285 - val_accuracy: 0.9740\n",
            "Epoch 30/30\n",
            "480/480 [==============================] - 1s 3ms/step - loss: 0.0823 - accuracy: 0.9960 - val_loss: 1.5286 - val_accuracy: 0.9743\n"
          ],
          "name": "stdout"
        }
      ]
    },
    {
      "cell_type": "code",
      "metadata": {
        "id": "QudIoYsG1MMX",
        "colab_type": "code",
        "colab": {}
      },
      "source": [
        "acc = history.history['accuracy']\n",
        "loss = history.history['loss']\n",
        "\n",
        "epochs = range(len(acc))"
      ],
      "execution_count": null,
      "outputs": []
    },
    {
      "cell_type": "code",
      "metadata": {
        "id": "jioSEzMT241a",
        "colab_type": "code",
        "colab": {
          "base_uri": "https://localhost:8080/",
          "height": 265
        },
        "outputId": "ea895d5b-9856-4a66-eeca-3741e086ccea"
      },
      "source": [
        "plt.plot(epochs, loss, 'bo', label = 'Training loss')\n",
        "plt.show()"
      ],
      "execution_count": null,
      "outputs": [
        {
          "output_type": "display_data",
          "data": {
            "image/png": "[encoded data removed]",
            "text/plain": [
              "<Figure size 432x288 with 1 Axes>"
            ]
          },
          "metadata": {
            "tags": [],
            "needs_background": "light"
          }
        }
      ]
    },
    {
      "cell_type": "code",
      "metadata": {
        "id": "djWPacIy3XPE",
        "colab_type": "code",
        "colab": {
          "base_uri": "https://localhost:8080/",
          "height": 34
        },
        "outputId": "a0a86783-d966-487d-aad3-760cf795c80a"
      },
      "source": [
        "test_loss, test_acc = model.evaluate(test_images, test_labels)"
      ],
      "execution_count": null,
      "outputs": [
        {
          "output_type": "stream",
          "text": [
            "313/313 [==============================] - 1s 2ms/step - loss: 1.2593 - accuracy: 0.9765\n"
          ],
          "name": "stdout"
        }
      ]
    },
    {
      "cell_type": "code",
      "metadata": {
        "id": "OWGhRMbq3_Mh",
        "colab_type": "code",
        "colab": {
          "base_uri": "https://localhost:8080/",
          "height": 34
        },
        "outputId": "28625933-ebec-4913-8a8d-bce14e95f279"
      },
      "source": [
        "import numpy as np\n",
        "\n",
        "predict = model.predict(test_images[0].reshape((1, 28*28)))\n",
        "print(predict, np.argmax(predict))"
      ],
      "execution_count": null,
      "outputs": [
        {
          "output_type": "stream",
          "text": [
            "[[0. 0. 0. 0. 0. 0. 0. 1. 0. 0.]] 7\n"
          ],
          "name": "stdout"
        }
      ]
    }
  ]
}
