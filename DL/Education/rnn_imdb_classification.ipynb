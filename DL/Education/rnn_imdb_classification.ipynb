{
  "nbformat": 4,
  "nbformat_minor": 0,
  "metadata": {
    "colab": {
      "name": "rnn_imdb_classification.ipynb",
      "provenance": [],
      "authorship_tag": "ABX9TyMCx2fXV74zZpBo3oLMQ1z2",
      "include_colab_link": true
    },
    "kernelspec": {
      "name": "python3",
      "display_name": "Python 3"
    },
    "language_info": {
      "name": "python"
    }
  },
  "cells": [
    {
      "cell_type": "markdown",
      "metadata": {
        "id": "view-in-github",
        "colab_type": "text"
      },
      "source": [
        "<a href=\"https://colab.research.google.com/github/Hyunseo-BA/BigData_Lab/blob/master/rnn_imdb_classification.ipynb\" target=\"_parent\"><img src=\"https://colab.research.google.com/assets/colab-badge.svg\" alt=\"Open In Colab\"/></a>"
      ]
    },
    {
      "cell_type": "markdown",
      "metadata": {
        "id": "VSyoAoM1mvBK"
      },
      "source": [
        "#RNN 모델을 이용한 영화리뷰 분류 분석"
      ]
    },
    {
      "cell_type": "code",
      "metadata": {
        "id": "4M3QTOmbnVnS"
      },
      "source": [
        "import matplotlib.pyplot as plt\n",
        "\n",
        "import tensorflow as tf\n",
        "from tensorflow.keras import layers, models\n",
        "from tensorflow.keras.datasets import imdb\n",
        "\n",
        "from tensorflow.keras.preprocessing import sequence"
      ],
      "execution_count": 1,
      "outputs": []
    },
    {
      "cell_type": "markdown",
      "metadata": {
        "id": "VDwrqJjNnXLe"
      },
      "source": [
        "### Step 1-1. Input tensor 와 Target tensor 준비(훈련데이터)"
      ]
    },
    {
      "cell_type": "markdown",
      "metadata": {
        "id": "xwRldon6naEo"
      },
      "source": [
        "IMDB 영화 리뷰 데이터 down"
      ]
    },
    {
      "cell_type": "code",
      "metadata": {
        "colab": {
          "base_uri": "https://localhost:8080/"
        },
        "id": "VnZP9FnRnc0f",
        "outputId": "c82d9d86-22f4-4cc4-de0f-bab374d007a4"
      },
      "source": [
        "(input_train, y_train), (input_test, y_test) = imdb.load_data(num_words=10000)"
      ],
      "execution_count": 2,
      "outputs": [
        {
          "output_type": "stream",
          "text": [
            "Downloading data from https://storage.googleapis.com/tensorflow/tf-keras-datasets/imdb.npz\n",
            "17465344/17464789 [==============================] - 0s 0us/step\n"
          ],
          "name": "stdout"
        },
        {
          "output_type": "stream",
          "text": [
            "<string>:6: VisibleDeprecationWarning: Creating an ndarray from ragged nested sequences (which is a list-or-tuple of lists-or-tuples-or ndarrays with different lengths or shapes) is deprecated. If you meant to do this, you must specify 'dtype=object' when creating the ndarray\n",
            "/usr/local/lib/python3.7/dist-packages/tensorflow/python/keras/datasets/imdb.py:159: VisibleDeprecationWarning: Creating an ndarray from ragged nested sequences (which is a list-or-tuple of lists-or-tuples-or ndarrays with different lengths or shapes) is deprecated. If you meant to do this, you must specify 'dtype=object' when creating the ndarray\n",
            "  x_train, y_train = np.array(xs[:idx]), np.array(labels[:idx])\n",
            "/usr/local/lib/python3.7/dist-packages/tensorflow/python/keras/datasets/imdb.py:160: VisibleDeprecationWarning: Creating an ndarray from ragged nested sequences (which is a list-or-tuple of lists-or-tuples-or ndarrays with different lengths or shapes) is deprecated. If you meant to do this, you must specify 'dtype=object' when creating the ndarray\n",
            "  x_test, y_test = np.array(xs[idx:]), np.array(labels[idx:])\n"
          ],
          "name": "stderr"
        }
      ]
    },
    {
      "cell_type": "markdown",
      "metadata": {
        "id": "4nOsu8KZneJ5"
      },
      "source": [
        "### Step 1-2. 입력 데이터의 전처리"
      ]
    },
    {
      "cell_type": "markdown",
      "metadata": {
        "id": "eqEv-28_nndS"
      },
      "source": [
        "RNN 모델에 데이터를 입력하기 위해 시퀀스 데이터의 길이를 통일"
      ]
    },
    {
      "cell_type": "code",
      "metadata": {
        "id": "Y_OfrHGsnol6"
      },
      "source": [
        "input_train = sequence.pad_sequences(input_train, 800)\n",
        "input_test = sequence.pad_sequences(input_test, 800)"
      ],
      "execution_count": 3,
      "outputs": []
    },
    {
      "cell_type": "code",
      "metadata": {
        "colab": {
          "base_uri": "https://localhost:8080/"
        },
        "id": "goCv3PDrnpq-",
        "outputId": "3f607bd1-2c42-47e4-9fc8-14efde7e8583"
      },
      "source": [
        "\n",
        "input_train.shape, input_test.shape"
      ],
      "execution_count": 4,
      "outputs": [
        {
          "output_type": "execute_result",
          "data": {
            "text/plain": [
              "((25000, 800), (25000, 800))"
            ]
          },
          "metadata": {
            "tags": []
          },
          "execution_count": 4
        }
      ]
    },
    {
      "cell_type": "code",
      "metadata": {
        "colab": {
          "base_uri": "https://localhost:8080/"
        },
        "id": "YAudRTObnr7B",
        "outputId": "6efd18a8-5275-4330-ab98-d12ef1c0f9f5"
      },
      "source": [
        "input_train[0]"
      ],
      "execution_count": 5,
      "outputs": [
        {
          "output_type": "execute_result",
          "data": {
            "text/plain": [
              "array([   0,    0,    0,    0,    0,    0,    0,    0,    0,    0,    0,\n",
              "          0,    0,    0,    0,    0,    0,    0,    0,    0,    0,    0,\n",
              "          0,    0,    0,    0,    0,    0,    0,    0,    0,    0,    0,\n",
              "          0,    0,    0,    0,    0,    0,    0,    0,    0,    0,    0,\n",
              "          0,    0,    0,    0,    0,    0,    0,    0,    0,    0,    0,\n",
              "          0,    0,    0,    0,    0,    0,    0,    0,    0,    0,    0,\n",
              "          0,    0,    0,    0,    0,    0,    0,    0,    0,    0,    0,\n",
              "          0,    0,    0,    0,    0,    0,    0,    0,    0,    0,    0,\n",
              "          0,    0,    0,    0,    0,    0,    0,    0,    0,    0,    0,\n",
              "          0,    0,    0,    0,    0,    0,    0,    0,    0,    0,    0,\n",
              "          0,    0,    0,    0,    0,    0,    0,    0,    0,    0,    0,\n",
              "          0,    0,    0,    0,    0,    0,    0,    0,    0,    0,    0,\n",
              "          0,    0,    0,    0,    0,    0,    0,    0,    0,    0,    0,\n",
              "          0,    0,    0,    0,    0,    0,    0,    0,    0,    0,    0,\n",
              "          0,    0,    0,    0,    0,    0,    0,    0,    0,    0,    0,\n",
              "          0,    0,    0,    0,    0,    0,    0,    0,    0,    0,    0,\n",
              "          0,    0,    0,    0,    0,    0,    0,    0,    0,    0,    0,\n",
              "          0,    0,    0,    0,    0,    0,    0,    0,    0,    0,    0,\n",
              "          0,    0,    0,    0,    0,    0,    0,    0,    0,    0,    0,\n",
              "          0,    0,    0,    0,    0,    0,    0,    0,    0,    0,    0,\n",
              "          0,    0,    0,    0,    0,    0,    0,    0,    0,    0,    0,\n",
              "          0,    0,    0,    0,    0,    0,    0,    0,    0,    0,    0,\n",
              "          0,    0,    0,    0,    0,    0,    0,    0,    0,    0,    0,\n",
              "          0,    0,    0,    0,    0,    0,    0,    0,    0,    0,    0,\n",
              "          0,    0,    0,    0,    0,    0,    0,    0,    0,    0,    0,\n",
              "          0,    0,    0,    0,    0,    0,    0,    0,    0,    0,    0,\n",
              "          0,    0,    0,    0,    0,    0,    0,    0,    0,    0,    0,\n",
              "          0,    0,    0,    0,    0,    0,    0,    0,    0,    0,    0,\n",
              "          0,    0,    0,    0,    0,    0,    0,    0,    0,    0,    0,\n",
              "          0,    0,    0,    0,    0,    0,    0,    0,    0,    0,    0,\n",
              "          0,    0,    0,    0,    0,    0,    0,    0,    0,    0,    0,\n",
              "          0,    0,    0,    0,    0,    0,    0,    0,    0,    0,    0,\n",
              "          0,    0,    0,    0,    0,    0,    0,    0,    0,    0,    0,\n",
              "          0,    0,    0,    0,    0,    0,    0,    0,    0,    0,    0,\n",
              "          0,    0,    0,    0,    0,    0,    0,    0,    0,    0,    0,\n",
              "          0,    0,    0,    0,    0,    0,    0,    0,    0,    0,    0,\n",
              "          0,    0,    0,    0,    0,    0,    0,    0,    0,    0,    0,\n",
              "          0,    0,    0,    0,    0,    0,    0,    0,    0,    0,    0,\n",
              "          0,    0,    0,    0,    0,    0,    0,    0,    0,    0,    0,\n",
              "          0,    0,    0,    0,    0,    0,    0,    0,    0,    0,    0,\n",
              "          0,    0,    0,    0,    0,    0,    0,    0,    0,    0,    0,\n",
              "          0,    0,    0,    0,    0,    0,    0,    0,    0,    0,    0,\n",
              "          0,    0,    0,    0,    0,    0,    0,    0,    0,    0,    0,\n",
              "          0,    0,    0,    0,    0,    0,    0,    0,    0,    0,    0,\n",
              "          0,    0,    0,    0,    0,    0,    0,    0,    0,    0,    0,\n",
              "          0,    0,    0,    0,    0,    0,    0,    0,    0,    0,    0,\n",
              "          0,    0,    0,    0,    0,    0,    0,    0,    0,    0,    0,\n",
              "          0,    0,    0,    0,    0,    0,    0,    0,    0,    0,    0,\n",
              "          0,    0,    0,    0,    0,    0,    0,    0,    0,    0,    0,\n",
              "          0,    0,    0,    0,    0,    0,    0,    0,    0,    0,    0,\n",
              "          0,    0,    0,    0,    0,    0,    0,    0,    0,    0,    0,\n",
              "          0,    0,    0,    0,    0,    0,    0,    0,    0,    0,    0,\n",
              "          0,    0,    0,    0,    0,    0,    0,    0,    0,    0,    1,\n",
              "         14,   22,   16,   43,  530,  973, 1622, 1385,   65,  458, 4468,\n",
              "         66, 3941,    4,  173,   36,  256,    5,   25,  100,   43,  838,\n",
              "        112,   50,  670,    2,    9,   35,  480,  284,    5,  150,    4,\n",
              "        172,  112,  167,    2,  336,  385,   39,    4,  172, 4536, 1111,\n",
              "         17,  546,   38,   13,  447,    4,  192,   50,   16,    6,  147,\n",
              "       2025,   19,   14,   22,    4, 1920, 4613,  469,    4,   22,   71,\n",
              "         87,   12,   16,   43,  530,   38,   76,   15,   13, 1247,    4,\n",
              "         22,   17,  515,   17,   12,   16,  626,   18,    2,    5,   62,\n",
              "        386,   12,    8,  316,    8,  106,    5,    4, 2223, 5244,   16,\n",
              "        480,   66, 3785,   33,    4,  130,   12,   16,   38,  619,    5,\n",
              "         25,  124,   51,   36,  135,   48,   25, 1415,   33,    6,   22,\n",
              "         12,  215,   28,   77,   52,    5,   14,  407,   16,   82,    2,\n",
              "          8,    4,  107,  117, 5952,   15,  256,    4,    2,    7, 3766,\n",
              "          5,  723,   36,   71,   43,  530,  476,   26,  400,  317,   46,\n",
              "          7,    4,    2, 1029,   13,  104,   88,    4,  381,   15,  297,\n",
              "         98,   32, 2071,   56,   26,  141,    6,  194, 7486,   18,    4,\n",
              "        226,   22,   21,  134,  476,   26,  480,    5,  144,   30, 5535,\n",
              "         18,   51,   36,   28,  224,   92,   25,  104,    4,  226,   65,\n",
              "         16,   38, 1334,   88,   12,   16,  283,    5,   16, 4472,  113,\n",
              "        103,   32,   15,   16, 5345,   19,  178,   32], dtype=int32)"
            ]
          },
          "metadata": {
            "tags": []
          },
          "execution_count": 5
        }
      ]
    },
    {
      "cell_type": "markdown",
      "metadata": {
        "id": "Zl3ZTqslnt62"
      },
      "source": [
        "### Step2. RNN 모델 디자인"
      ]
    },
    {
      "cell_type": "code",
      "metadata": {
        "id": "yH-K_1gCnu2R"
      },
      "source": [
        "# embedding layer: 32차원, hidden layer : 1개[32], activation : tanh\n",
        "model = models.Sequential()\n",
        "model.add(layers.Embedding(input_dim=10000, output_dim=32))\n",
        "model.add(layers.SimpleRNN(units=32))\n",
        "model.add(layers.Dense(units=1, activation='sigmoid'))"
      ],
      "execution_count": 6,
      "outputs": []
    },
    {
      "cell_type": "code",
      "metadata": {
        "colab": {
          "base_uri": "https://localhost:8080/"
        },
        "id": "dZknGaFFnyY-",
        "outputId": "de5bec41-7e1a-4bb7-d9d9-246f99865f0a"
      },
      "source": [
        "model.summary()"
      ],
      "execution_count": 7,
      "outputs": [
        {
          "output_type": "stream",
          "text": [
            "Model: \"sequential\"\n",
            "_________________________________________________________________\n",
            "Layer (type)                 Output Shape              Param #   \n",
            "=================================================================\n",
            "embedding (Embedding)        (None, None, 32)          320000    \n",
            "_________________________________________________________________\n",
            "simple_rnn (SimpleRNN)       (None, 32)                2080      \n",
            "_________________________________________________________________\n",
            "dense (Dense)                (None, 1)                 33        \n",
            "=================================================================\n",
            "Total params: 322,113\n",
            "Trainable params: 322,113\n",
            "Non-trainable params: 0\n",
            "_________________________________________________________________\n"
          ],
          "name": "stdout"
        }
      ]
    },
    {
      "cell_type": "markdown",
      "metadata": {
        "id": "uup_IvUenzZP"
      },
      "source": [
        "### Step 3. 모델의 학습 정보 설정"
      ]
    },
    {
      "cell_type": "code",
      "metadata": {
        "id": "_Euv5d7en1qC"
      },
      "source": [
        "# loss : binary crossentropy/ optimizer : rmsprop/ metric : accuracy\n",
        "model.compile(loss='binary_crossentropy',\n",
        "              optimizer='rmsprop',\n",
        "              metrics=['accuracy'])"
      ],
      "execution_count": 8,
      "outputs": []
    },
    {
      "cell_type": "markdown",
      "metadata": {
        "id": "wgKhNYs1n2o-"
      },
      "source": [
        "### Step 4. 모델에 input, target 데이터 연결 후 학습"
      ]
    },
    {
      "cell_type": "code",
      "metadata": {
        "colab": {
          "base_uri": "https://localhost:8080/"
        },
        "id": "3CprF4Ajn4TY",
        "outputId": "f0c8bb11-3ad9-49ef-9582-bd411b73bac8"
      },
      "source": [
        "# batch size : 128, epochs : 10, validation data set percent : 20%\n",
        "history = model.fit(\n",
        "    x=input_train, y=y_train,\n",
        "    batch_size=128,\n",
        "    epochs=10,\n",
        "    validation_split=0.2\n",
        ")"
      ],
      "execution_count": 9,
      "outputs": [
        {
          "output_type": "stream",
          "text": [
            "Epoch 1/10\n",
            "157/157 [==============================] - 43s 263ms/step - loss: 0.6433 - accuracy: 0.6038 - val_loss: 0.4192 - val_accuracy: 0.8138\n",
            "Epoch 2/10\n",
            "157/157 [==============================] - 42s 270ms/step - loss: 0.3726 - accuracy: 0.8412 - val_loss: 0.4183 - val_accuracy: 0.8166\n",
            "Epoch 3/10\n",
            "157/157 [==============================] - 42s 264ms/step - loss: 0.2772 - accuracy: 0.8898 - val_loss: 0.4832 - val_accuracy: 0.8072\n",
            "Epoch 4/10\n",
            "157/157 [==============================] - 42s 266ms/step - loss: 0.2276 - accuracy: 0.9157 - val_loss: 0.3967 - val_accuracy: 0.8310\n",
            "Epoch 5/10\n",
            "157/157 [==============================] - 42s 265ms/step - loss: 0.1793 - accuracy: 0.9353 - val_loss: 0.4099 - val_accuracy: 0.8608\n",
            "Epoch 6/10\n",
            "157/157 [==============================] - 42s 266ms/step - loss: 0.1340 - accuracy: 0.9521 - val_loss: 0.3937 - val_accuracy: 0.8516\n",
            "Epoch 7/10\n",
            "157/157 [==============================] - 42s 268ms/step - loss: 0.0888 - accuracy: 0.9715 - val_loss: 0.4723 - val_accuracy: 0.8500\n",
            "Epoch 8/10\n",
            "157/157 [==============================] - 40s 257ms/step - loss: 0.0591 - accuracy: 0.9811 - val_loss: 0.5122 - val_accuracy: 0.8330\n",
            "Epoch 9/10\n",
            "157/157 [==============================] - 42s 270ms/step - loss: 0.0335 - accuracy: 0.9905 - val_loss: 0.7278 - val_accuracy: 0.7682\n",
            "Epoch 10/10\n",
            "157/157 [==============================] - 43s 271ms/step - loss: 0.0203 - accuracy: 0.9952 - val_loss: 0.6130 - val_accuracy: 0.8418\n"
          ],
          "name": "stdout"
        }
      ]
    },
    {
      "cell_type": "markdown",
      "metadata": {
        "id": "vDLREVB6n6eB"
      },
      "source": [
        "### Step 5. 학습과정의 시각화 및 성능 테스트"
      ]
    },
    {
      "cell_type": "code",
      "metadata": {
        "id": "BXcC1pVGn_7p"
      },
      "source": [
        "# 학습과정 시각화를 위한 정보 추출\n",
        "acc = history.history['accuracy']\n",
        "val_acc = history.history['val_accuracy']\n",
        "loss = history.history['loss']\n",
        "val_loss = history.history['val_loss']"
      ],
      "execution_count": 12,
      "outputs": []
    },
    {
      "cell_type": "code",
      "metadata": {
        "id": "E9WW8bzaoCkF"
      },
      "source": [
        "# 차트의 x 축을 위한 epoch 정보 생성\n",
        "epochs = range(1, len(acc) + 1)"
      ],
      "execution_count": 13,
      "outputs": []
    },
    {
      "cell_type": "code",
      "metadata": {
        "colab": {
          "base_uri": "https://localhost:8080/",
          "height": 281
        },
        "id": "UiXRxI1HoD0A",
        "outputId": "d2b94a19-7de2-436b-c1c4-5422f8c7878e"
      },
      "source": [
        "# 정합도 정보 시각화\n",
        "plt.plot(epochs, acc, label='Training acc')\n",
        "plt.plot(epochs, val_acc, label='Validation acc')\n",
        "plt.title('Training and validation accuracy')\n",
        "plt.legend()\n",
        "plt.show()"
      ],
      "execution_count": 14,
      "outputs": [
        {
          "output_type": "display_data",
          "data": {
            "image/png": "[encoded data removed]",
            "text/plain": [
              "<Figure size 432x288 with 1 Axes>"
            ]
          },
          "metadata": {
            "tags": [],
            "needs_background": "light"
          }
        }
      ]
    },
    {
      "cell_type": "code",
      "metadata": {
        "colab": {
          "base_uri": "https://localhost:8080/",
          "height": 281
        },
        "id": "TKWNd8nooFGW",
        "outputId": "b9964e51-6c42-46b0-ee57-da1d10bd5532"
      },
      "source": [
        "# loss 정보 시각화\n",
        "plt.plot(epochs, loss, label='Training loss')\n",
        "plt.plot(epochs, val_loss, label='Validation loss')\n",
        "plt.title('Training and validation loss')\n",
        "plt.legend()\n",
        "\n",
        "plt.show()"
      ],
      "execution_count": 15,
      "outputs": [
        {
          "output_type": "display_data",
          "data": {
            "image/png": "[encoded data removed]",
            "text/plain": [
              "<Figure size 432x288 with 1 Axes>"
            ]
          },
          "metadata": {
            "tags": [],
            "needs_background": "light"
          }
        }
      ]
    },
    {
      "cell_type": "code",
      "metadata": {
        "colab": {
          "base_uri": "https://localhost:8080/"
        },
        "id": "DmzBPRDQoGnQ",
        "outputId": "27ac2ed4-ec30-4350-aba6-ba17210a1caf"
      },
      "source": [
        "test_loss, test_acc = model.evaluate(x=input_test, y=y_test)"
      ],
      "execution_count": 16,
      "outputs": [
        {
          "output_type": "stream",
          "text": [
            "782/782 [==============================] - 31s 40ms/step - loss: 0.6316 - accuracy: 0.8354\n"
          ],
          "name": "stdout"
        }
      ]
    }
  ]
}
