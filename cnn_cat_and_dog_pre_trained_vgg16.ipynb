{
  "nbformat": 4,
  "nbformat_minor": 0,
  "metadata": {
    "colab": {
      "name": "cnn_cat_and_dog_pre_trained_vgg16.ipynb",
      "provenance": [],
      "collapsed_sections": [],
      "include_colab_link": true
    },
    "kernelspec": {
      "name": "python3",
      "display_name": "Python 3"
    },
    "accelerator": "GPU"
  },
  "cells": [
    {
      "cell_type": "markdown",
      "metadata": {
        "id": "view-in-github",
        "colab_type": "text"
      },
      "source": [
        "<a href=\"https://colab.research.google.com/github/Hyunseo-BA/BigData_Lab/blob/master/cnn_cat_and_dog_pre_trained_vgg16.ipynb\" target=\"_parent\"><img src=\"https://colab.research.google.com/assets/colab-badge.svg\" alt=\"Open In Colab\"/></a>"
      ]
    },
    {
      "cell_type": "code",
      "metadata": {
        "id": "l0DQQWqlY6Ti",
        "colab_type": "code",
        "colab": {
          "base_uri": "https://localhost:8080/",
          "height": 125
        },
        "outputId": "5708cd70-2293-4a7d-a05e-5d8233c3bfae"
      },
      "source": [
        "from google.colab import drive\n",
        "drive.mount('/content/drive')"
      ],
      "execution_count": null,
      "outputs": [
        {
          "output_type": "stream",
          "text": [
            "Go to this URL in a browser: https://accounts.google.com/o/oauth2/auth?client_id=947318989803-6bn6qk8qdgf4n4g3pfee6491hc0brc4i.apps.googleusercontent.com&redirect_uri=urn%3aietf%3awg%3aoauth%3a2.0%3aoob&response_type=code&scope=email%20https%3a%2f%2fwww.googleapis.com%2fauth%2fdocs.test%20https%3a%2f%2fwww.googleapis.com%2fauth%2fdrive%20https%3a%2f%2fwww.googleapis.com%2fauth%2fdrive.photos.readonly%20https%3a%2f%2fwww.googleapis.com%2fauth%2fpeopleapi.readonly\n",
            "\n",
            "Enter your authorization code:\n",
            "··········\n",
            "Mounted at /content/drive\n"
          ],
          "name": "stdout"
        }
      ]
    },
    {
      "cell_type": "code",
      "metadata": {
        "id": "6oXfaYNTrvkY",
        "colab_type": "code",
        "colab": {}
      },
      "source": [
        "!unzip '/content/drive/My Drive/datasets.zip' -d '/content/drive/My Drive/datasets/'"
      ],
      "execution_count": null,
      "outputs": []
    },
    {
      "cell_type": "code",
      "metadata": {
        "id": "mxWVXx6ftvfE",
        "colab_type": "code",
        "colab": {
          "base_uri": "https://localhost:8080/",
          "height": 369
        },
        "outputId": "19f31a2e-a3af-490f-c620-74101820aff6"
      },
      "source": [
        "# nvidia driver check\n",
        "!nvidia-smi"
      ],
      "execution_count": null,
      "outputs": [
        {
          "output_type": "stream",
          "text": [
            "Wed Jul 29 01:13:42 2020       \n",
            "+-----------------------------------------------------------------------------+\n",
            "| NVIDIA-SMI 450.51.05    Driver Version: 418.67       CUDA Version: 10.1     |\n",
            "|-------------------------------+----------------------+----------------------+\n",
            "| GPU  Name        Persistence-M| Bus-Id        Disp.A | Volatile Uncorr. ECC |\n",
            "| Fan  Temp  Perf  Pwr:Usage/Cap|         Memory-Usage | GPU-Util  Compute M. |\n",
            "|                               |                      |               MIG M. |\n",
            "|===============================+======================+======================|\n",
            "|   0  Tesla T4            Off  | 00000000:00:04.0 Off |                    0 |\n",
            "| N/A   51C    P8    10W /  70W |      0MiB / 15079MiB |      0%      Default |\n",
            "|                               |                      |                 ERR! |\n",
            "+-------------------------------+----------------------+----------------------+\n",
            "                                                                               \n",
            "+-----------------------------------------------------------------------------+\n",
            "| Processes:                                                                  |\n",
            "|  GPU   GI   CI        PID   Type   Process name                  GPU Memory |\n",
            "|        ID   ID                                                   Usage      |\n",
            "|=============================================================================|\n",
            "|  No running processes found                                                 |\n",
            "+-----------------------------------------------------------------------------+\n"
          ],
          "name": "stdout"
        }
      ]
    },
    {
      "cell_type": "code",
      "metadata": {
        "id": "YqF0jHEwoSic",
        "colab_type": "code",
        "colab": {}
      },
      "source": [
        "from tensorflow.keras import models, layers\n",
        "\n",
        "from tensorflow.keras import optimizers\n",
        "from tensorflow.keras.preprocessing.image \\\n",
        "import ImageDataGenerator\n",
        "\n",
        "import matplotlib.pyplot as plt\n",
        "import os"
      ],
      "execution_count": null,
      "outputs": []
    },
    {
      "cell_type": "code",
      "metadata": {
        "id": "qBdgXHpytnwY",
        "colab_type": "code",
        "colab": {}
      },
      "source": [
        "# 이미지 학습, 검증, 시험 데이터 경로 설정\n",
        "base_dir = '/content/drive/My Drive/Colab Notebooks/cats_and_dogs_small'\n",
        "\n",
        "train_dir = os.path.join(base_dir, 'train')\n",
        "validation_dir = os.path.join(base_dir, 'validation')\n",
        "test_dir = os.path.join(base_dir, 'test')"
      ],
      "execution_count": null,
      "outputs": []
    },
    {
      "cell_type": "code",
      "metadata": {
        "id": "WQqZ6v2DIrPu",
        "colab_type": "code",
        "colab": {
          "base_uri": "https://localhost:8080/",
          "height": 52
        },
        "outputId": "cf3e27de-11de-4d27-a65c-b75bb42cf6de"
      },
      "source": [
        "# VGG16 합성곱 모델 사용\n",
        "from tensorflow.keras.applications import VGG16\n",
        "\n",
        "conv_base = VGG16(weights = 'imagenet',\n",
        "                  include_top = False,\n",
        "                  input_shape = (150,150,3))"
      ],
      "execution_count": null,
      "outputs": [
        {
          "output_type": "stream",
          "text": [
            "Downloading data from https://storage.googleapis.com/tensorflow/keras-applications/vgg16/vgg16_weights_tf_dim_ordering_tf_kernels_notop.h5\n",
            "58892288/58889256 [==============================] - 1s 0us/step\n"
          ],
          "name": "stdout"
        }
      ]
    },
    {
      "cell_type": "code",
      "metadata": {
        "id": "UghPX4MNLj5G",
        "colab_type": "code",
        "colab": {
          "base_uri": "https://localhost:8080/",
          "height": 826
        },
        "outputId": "d63a27ec-6009-4b99-8d24-a0733fe0862b"
      },
      "source": [
        "conv_base.summary()"
      ],
      "execution_count": null,
      "outputs": [
        {
          "output_type": "stream",
          "text": [
            "Model: \"vgg16\"\n",
            "_________________________________________________________________\n",
            "Layer (type)                 Output Shape              Param #   \n",
            "=================================================================\n",
            "input_1 (InputLayer)         [(None, 150, 150, 3)]     0         \n",
            "_________________________________________________________________\n",
            "block1_conv1 (Conv2D)        (None, 150, 150, 64)      1792      \n",
            "_________________________________________________________________\n",
            "block1_conv2 (Conv2D)        (None, 150, 150, 64)      36928     \n",
            "_________________________________________________________________\n",
            "block1_pool (MaxPooling2D)   (None, 75, 75, 64)        0         \n",
            "_________________________________________________________________\n",
            "block2_conv1 (Conv2D)        (None, 75, 75, 128)       73856     \n",
            "_________________________________________________________________\n",
            "block2_conv2 (Conv2D)        (None, 75, 75, 128)       147584    \n",
            "_________________________________________________________________\n",
            "block2_pool (MaxPooling2D)   (None, 37, 37, 128)       0         \n",
            "_________________________________________________________________\n",
            "block3_conv1 (Conv2D)        (None, 37, 37, 256)       295168    \n",
            "_________________________________________________________________\n",
            "block3_conv2 (Conv2D)        (None, 37, 37, 256)       590080    \n",
            "_________________________________________________________________\n",
            "block3_conv3 (Conv2D)        (None, 37, 37, 256)       590080    \n",
            "_________________________________________________________________\n",
            "block3_pool (MaxPooling2D)   (None, 18, 18, 256)       0         \n",
            "_________________________________________________________________\n",
            "block4_conv1 (Conv2D)        (None, 18, 18, 512)       1180160   \n",
            "_________________________________________________________________\n",
            "block4_conv2 (Conv2D)        (None, 18, 18, 512)       2359808   \n",
            "_________________________________________________________________\n",
            "block4_conv3 (Conv2D)        (None, 18, 18, 512)       2359808   \n",
            "_________________________________________________________________\n",
            "block4_pool (MaxPooling2D)   (None, 9, 9, 512)         0         \n",
            "_________________________________________________________________\n",
            "block5_conv1 (Conv2D)        (None, 9, 9, 512)         2359808   \n",
            "_________________________________________________________________\n",
            "block5_conv2 (Conv2D)        (None, 9, 9, 512)         2359808   \n",
            "_________________________________________________________________\n",
            "block5_conv3 (Conv2D)        (None, 9, 9, 512)         2359808   \n",
            "_________________________________________________________________\n",
            "block5_pool (MaxPooling2D)   (None, 4, 4, 512)         0         \n",
            "=================================================================\n",
            "Total params: 14,714,688\n",
            "Trainable params: 14,714,688\n",
            "Non-trainable params: 0\n",
            "_________________________________________________________________\n"
          ],
          "name": "stdout"
        }
      ]
    },
    {
      "cell_type": "code",
      "metadata": {
        "id": "BjvWT-rzMIP5",
        "colab_type": "code",
        "colab": {}
      },
      "source": [
        "model = models.Sequential()\n",
        "model.add(conv_base)\n",
        "model.add(layers.Flatten())\n",
        "model.add(layers.Dense(256, activation='relu'))\n",
        "model.add(layers.Dropout(0.5))\n",
        "model.add(layers.Dense(1, activation='sigmoid'))"
      ],
      "execution_count": null,
      "outputs": []
    },
    {
      "cell_type": "code",
      "metadata": {
        "id": "r_6NPQPAMcWK",
        "colab_type": "code",
        "colab": {
          "base_uri": "https://localhost:8080/",
          "height": 334
        },
        "outputId": "e661cabe-3f88-428e-acb2-4ee02397e705"
      },
      "source": [
        "model.summary()"
      ],
      "execution_count": null,
      "outputs": [
        {
          "output_type": "stream",
          "text": [
            "Model: \"sequential\"\n",
            "_________________________________________________________________\n",
            "Layer (type)                 Output Shape              Param #   \n",
            "=================================================================\n",
            "vgg16 (Model)                (None, 4, 4, 512)         14714688  \n",
            "_________________________________________________________________\n",
            "flatten (Flatten)            (None, 8192)              0         \n",
            "_________________________________________________________________\n",
            "dense (Dense)                (None, 256)               2097408   \n",
            "_________________________________________________________________\n",
            "dropout (Dropout)            (None, 256)               0         \n",
            "_________________________________________________________________\n",
            "dense_1 (Dense)              (None, 1)                 257       \n",
            "=================================================================\n",
            "Total params: 16,812,353\n",
            "Trainable params: 16,812,353\n",
            "Non-trainable params: 0\n",
            "_________________________________________________________________\n"
          ],
          "name": "stdout"
        }
      ]
    },
    {
      "cell_type": "code",
      "metadata": {
        "id": "bDDSjJAJAKQ-",
        "colab_type": "code",
        "colab": {
          "base_uri": "https://localhost:8080/",
          "height": 263
        },
        "outputId": "50a520a3-6558-4548-e3f2-371db6a86bd8"
      },
      "source": [
        "print(model.trainable_weights[1])"
      ],
      "execution_count": null,
      "outputs": [
        {
          "output_type": "stream",
          "text": [
            "<tf.Variable 'block1_conv1/bias:0' shape=(64,) dtype=float32, numpy=\n",
            "array([ 0.73429835,  0.09340367,  0.06775674,  0.8862966 ,  0.25994542,\n",
            "        0.66426694, -0.01582893,  0.3249065 ,  0.68600726,  0.06247932,\n",
            "        0.58156496,  0.2361475 ,  0.69694996,  0.19451167,  0.4858922 ,\n",
            "        0.44571847,  0.5113422 ,  0.208576  ,  0.57557714,  0.33199573,\n",
            "        0.4997983 ,  0.7117759 ,  0.30284074,  0.7082712 ,  0.04548979,\n",
            "        0.7446502 ,  0.29845494,  0.48211655,  0.81658626,  0.62603897,\n",
            "        0.3768093 ,  2.064037  ,  0.77311045,  0.3459577 ,  0.6130958 ,\n",
            "        0.65459156,  0.39045632,  0.50869167,  0.2625384 ,  0.23669638,\n",
            "        0.07971057,  1.1179353 ,  0.26129362,  0.8697589 ,  0.21543622,\n",
            "        0.78007823,  0.37015367,  0.47993386,  0.4313978 ,  0.5084194 ,\n",
            "        0.23049663,  0.7636527 ,  0.35419866,  0.45794216,  0.4662595 ,\n",
            "        0.09850298,  0.3803252 ,  0.66880196,  0.4015123 ,  0.90510356,\n",
            "        0.43166816,  1.302014  ,  0.5306885 ,  0.48993504], dtype=float32)>\n"
          ],
          "name": "stdout"
        }
      ]
    },
    {
      "cell_type": "code",
      "metadata": {
        "id": "lTYS4lEKPBRL",
        "colab_type": "code",
        "colab": {
          "base_uri": "https://localhost:8080/",
          "height": 34
        },
        "outputId": "727dcdfc-cbc6-4acd-f603-7e854bc4dc72"
      },
      "source": [
        "conv_base.trainable = False\n",
        "\n",
        "print(len(model.trainable_weights))"
      ],
      "execution_count": null,
      "outputs": [
        {
          "output_type": "stream",
          "text": [
            "4\n"
          ],
          "name": "stdout"
        }
      ]
    },
    {
      "cell_type": "code",
      "metadata": {
        "id": "7F56aRpBP5WX",
        "colab_type": "code",
        "colab": {
          "base_uri": "https://localhost:8080/",
          "height": 334
        },
        "outputId": "b0606d64-ffa8-4a37-d318-1ae1fdff9cbd"
      },
      "source": [
        "model.summary()"
      ],
      "execution_count": null,
      "outputs": [
        {
          "output_type": "stream",
          "text": [
            "Model: \"sequential\"\n",
            "_________________________________________________________________\n",
            "Layer (type)                 Output Shape              Param #   \n",
            "=================================================================\n",
            "vgg16 (Model)                (None, 4, 4, 512)         14714688  \n",
            "_________________________________________________________________\n",
            "flatten (Flatten)            (None, 8192)              0         \n",
            "_________________________________________________________________\n",
            "dense (Dense)                (None, 256)               2097408   \n",
            "_________________________________________________________________\n",
            "dropout (Dropout)            (None, 256)               0         \n",
            "_________________________________________________________________\n",
            "dense_1 (Dense)              (None, 1)                 257       \n",
            "=================================================================\n",
            "Total params: 16,812,353\n",
            "Trainable params: 2,097,665\n",
            "Non-trainable params: 14,714,688\n",
            "_________________________________________________________________\n"
          ],
          "name": "stdout"
        }
      ]
    },
    {
      "cell_type": "code",
      "metadata": {
        "id": "4RadHh8vQqin",
        "colab_type": "code",
        "colab": {}
      },
      "source": [
        "from tensorflow.keras.preprocessing.image import ImageDataGenerator"
      ],
      "execution_count": null,
      "outputs": []
    },
    {
      "cell_type": "code",
      "metadata": {
        "id": "1RuOwkN3luUk",
        "colab_type": "code",
        "colab": {}
      },
      "source": [
        "# 모든 이미지를 1/255로 스케일을 조정합니다\n",
        "train_datagen = ImageDataGenerator(rescale=1./255,\n",
        "                                   rotation_range = 40,\n",
        "                             width_shift_range = 0.2,\n",
        "                             height_shift_range = 0.2,\n",
        "                             shear_range = 0.2,\n",
        "                             zoom_range = 0.2,\n",
        "                             horizontal_flip = True)\n",
        "\n",
        "validation_datagen = ImageDataGenerator(rescale=1./255) #검증데이터는 증식되어서 안 됨.\n",
        "test_datagen = ImageDataGenerator(rescale=1./255)"
      ],
      "execution_count": null,
      "outputs": []
    },
    {
      "cell_type": "code",
      "metadata": {
        "id": "fokPvcT9XfTy",
        "colab_type": "code",
        "colab": {
          "base_uri": "https://localhost:8080/",
          "height": 70
        },
        "outputId": "c638521d-222a-4009-a9bc-efda12f5a686"
      },
      "source": [
        "train_generator = train_datagen.flow_from_directory(\n",
        "        # 타깃 디렉터리\n",
        "        train_dir,\n",
        "        # 모든 이미지를 150 × 150 크기로 바꿉니다\n",
        "        target_size=(150, 150),\n",
        "        batch_size=20,\n",
        "        # binary_crossentropy 손실을 사용하기 때문에 이진 레이블이 필요합니다\n",
        "        class_mode='binary')\n",
        "\n",
        "validation_generator = validation_datagen.flow_from_directory(\n",
        "        validation_dir,\n",
        "        target_size=(150, 150),\n",
        "        batch_size=20,\n",
        "        class_mode='binary')\n",
        "\n",
        "test_generator = test_datagen.flow_from_directory(\n",
        "        test_dir,\n",
        "        target_size=(150, 150),\n",
        "        batch_size=20,\n",
        "        class_mode='binary')"
      ],
      "execution_count": null,
      "outputs": [
        {
          "output_type": "stream",
          "text": [
            "Found 2000 images belonging to 2 classes.\n",
            "Found 1003 images belonging to 2 classes.\n",
            "Found 1000 images belonging to 2 classes.\n"
          ],
          "name": "stdout"
        }
      ]
    },
    {
      "cell_type": "code",
      "metadata": {
        "id": "prE-UG9lpdm2",
        "colab_type": "code",
        "colab": {}
      },
      "source": [
        "model.compile(loss='binary_crossentropy',\n",
        "              optimizer=optimizers.RMSprop(lr=2e-5),\n",
        "              metrics=['acc'])"
      ],
      "execution_count": null,
      "outputs": []
    },
    {
      "cell_type": "code",
      "metadata": {
        "id": "jZ0TP0XNp9Pt",
        "colab_type": "code",
        "colab": {
          "base_uri": "https://localhost:8080/",
          "height": 1000
        },
        "outputId": "14cf9620-bc16-4ba4-9c97-14d4e9ce1d90"
      },
      "source": [
        "history = model.fit_generator(\n",
        "      train_generator,\n",
        "      steps_per_epoch=100,\n",
        "      epochs=30,\n",
        "      validation_data=validation_generator,\n",
        "      validation_steps=50)"
      ],
      "execution_count": null,
      "outputs": [
        {
          "output_type": "stream",
          "text": [
            "WARNING:tensorflow:From <ipython-input-22-a7acfc8093a4>:6: Model.fit_generator (from tensorflow.python.keras.engine.training) is deprecated and will be removed in a future version.\n",
            "Instructions for updating:\n",
            "Please use Model.fit, which supports generators.\n",
            "Epoch 1/30\n",
            "100/100 [==============================] - 1753s 18s/step - loss: 0.6616 - acc: 0.6195 - val_loss: 0.5012 - val_acc: 0.7980\n",
            "Epoch 2/30\n",
            "100/100 [==============================] - 24s 236ms/step - loss: 0.5646 - acc: 0.7035 - val_loss: 0.4265 - val_acc: 0.8350\n",
            "Epoch 3/30\n",
            "100/100 [==============================] - 23s 226ms/step - loss: 0.5122 - acc: 0.7470 - val_loss: 0.3838 - val_acc: 0.8500\n",
            "Epoch 4/30\n",
            "100/100 [==============================] - 23s 226ms/step - loss: 0.4823 - acc: 0.7645 - val_loss: 0.3603 - val_acc: 0.8560\n",
            "Epoch 5/30\n",
            "100/100 [==============================] - 22s 221ms/step - loss: 0.4480 - acc: 0.7985 - val_loss: 0.3428 - val_acc: 0.8660\n",
            "Epoch 6/30\n",
            "100/100 [==============================] - 22s 224ms/step - loss: 0.4336 - acc: 0.8070 - val_loss: 0.3254 - val_acc: 0.8660\n",
            "Epoch 7/30\n",
            "100/100 [==============================] - 22s 224ms/step - loss: 0.4089 - acc: 0.8180 - val_loss: 0.3131 - val_acc: 0.8710\n",
            "Epoch 8/30\n",
            "100/100 [==============================] - 22s 221ms/step - loss: 0.4077 - acc: 0.8110 - val_loss: 0.3047 - val_acc: 0.8770\n",
            "Epoch 9/30\n",
            "100/100 [==============================] - 22s 219ms/step - loss: 0.4002 - acc: 0.8170 - val_loss: 0.2989 - val_acc: 0.8840\n",
            "Epoch 10/30\n",
            "100/100 [==============================] - 22s 218ms/step - loss: 0.3872 - acc: 0.8215 - val_loss: 0.2967 - val_acc: 0.8750\n",
            "Epoch 11/30\n",
            "100/100 [==============================] - 22s 218ms/step - loss: 0.3921 - acc: 0.8210 - val_loss: 0.2879 - val_acc: 0.8860\n",
            "Epoch 12/30\n",
            "100/100 [==============================] - 22s 217ms/step - loss: 0.3879 - acc: 0.8300 - val_loss: 0.2865 - val_acc: 0.8820\n",
            "Epoch 13/30\n",
            "100/100 [==============================] - 22s 217ms/step - loss: 0.3738 - acc: 0.8305 - val_loss: 0.2798 - val_acc: 0.8910\n",
            "Epoch 14/30\n",
            "100/100 [==============================] - 22s 217ms/step - loss: 0.3578 - acc: 0.8380 - val_loss: 0.2757 - val_acc: 0.8910\n",
            "Epoch 15/30\n",
            "100/100 [==============================] - 22s 217ms/step - loss: 0.3712 - acc: 0.8405 - val_loss: 0.2737 - val_acc: 0.8880\n",
            "Epoch 16/30\n",
            "100/100 [==============================] - 22s 223ms/step - loss: 0.3605 - acc: 0.8295 - val_loss: 0.2735 - val_acc: 0.8890\n",
            "Epoch 17/30\n",
            "100/100 [==============================] - 22s 216ms/step - loss: 0.3642 - acc: 0.8405 - val_loss: 0.2688 - val_acc: 0.8940\n",
            "Epoch 18/30\n",
            "100/100 [==============================] - 22s 217ms/step - loss: 0.3596 - acc: 0.8375 - val_loss: 0.2661 - val_acc: 0.8950\n",
            "Epoch 19/30\n",
            "100/100 [==============================] - 22s 216ms/step - loss: 0.3454 - acc: 0.8560 - val_loss: 0.2631 - val_acc: 0.8970\n",
            "Epoch 20/30\n",
            "100/100 [==============================] - 22s 216ms/step - loss: 0.3372 - acc: 0.8605 - val_loss: 0.2669 - val_acc: 0.8880\n",
            "Epoch 21/30\n",
            "100/100 [==============================] - 22s 215ms/step - loss: 0.3557 - acc: 0.8410 - val_loss: 0.2588 - val_acc: 0.8970\n",
            "Epoch 22/30\n",
            "100/100 [==============================] - 22s 217ms/step - loss: 0.3467 - acc: 0.8455 - val_loss: 0.2544 - val_acc: 0.9020\n",
            "Epoch 23/30\n",
            "100/100 [==============================] - 22s 216ms/step - loss: 0.3372 - acc: 0.8485 - val_loss: 0.2538 - val_acc: 0.8970\n",
            "Epoch 24/30\n",
            "100/100 [==============================] - 21s 215ms/step - loss: 0.3256 - acc: 0.8600 - val_loss: 0.2523 - val_acc: 0.9010\n",
            "Epoch 25/30\n",
            "100/100 [==============================] - 22s 215ms/step - loss: 0.3284 - acc: 0.8535 - val_loss: 0.2520 - val_acc: 0.9060\n",
            "Epoch 26/30\n",
            "100/100 [==============================] - 22s 216ms/step - loss: 0.3220 - acc: 0.8645 - val_loss: 0.2524 - val_acc: 0.9030\n",
            "Epoch 27/30\n",
            "100/100 [==============================] - 21s 214ms/step - loss: 0.3294 - acc: 0.8535 - val_loss: 0.2656 - val_acc: 0.8870\n",
            "Epoch 28/30\n",
            "100/100 [==============================] - 21s 213ms/step - loss: 0.3312 - acc: 0.8600 - val_loss: 0.2503 - val_acc: 0.9070\n",
            "Epoch 29/30\n",
            "100/100 [==============================] - 22s 216ms/step - loss: 0.3350 - acc: 0.8530 - val_loss: 0.2506 - val_acc: 0.9040\n",
            "Epoch 30/30\n",
            "100/100 [==============================] - 22s 220ms/step - loss: 0.3189 - acc: 0.8680 - val_loss: 0.2536 - val_acc: 0.8960\n"
          ],
          "name": "stdout"
        }
      ]
    },
    {
      "cell_type": "code",
      "metadata": {
        "id": "A-Sd8xTzp92u",
        "colab_type": "code",
        "colab": {}
      },
      "source": [
        "model.save('cats_and_dogs_small_1.h5')"
      ],
      "execution_count": null,
      "outputs": []
    },
    {
      "cell_type": "code",
      "metadata": {
        "id": "H395Uh5RqDZ-",
        "colab_type": "code",
        "colab": {
          "base_uri": "https://localhost:8080/",
          "height": 545
        },
        "outputId": "7162e4b7-c881-4bc4-d598-f1c238c7500e"
      },
      "source": [
        "acc = history.history['acc']\n",
        "val_acc = history.history['val_acc']\n",
        "loss = history.history['loss']\n",
        "val_loss = history.history['val_loss']\n",
        "\n",
        "epochs = range(len(acc))\n",
        "\n",
        "plt.plot(epochs, acc, 'bo', label='Training acc')\n",
        "plt.plot(epochs, val_acc, 'b', label='Validation acc')\n",
        "plt.title('Training and validation accuracy')\n",
        "plt.legend()\n",
        "\n",
        "plt.figure()\n",
        "\n",
        "plt.plot(epochs, loss, 'bo', label='Training loss')\n",
        "plt.plot(epochs, val_loss, 'b', label='Validation loss')\n",
        "plt.title('Training and validation loss')\n",
        "plt.legend()\n",
        "\n",
        "plt.show()"
      ],
      "execution_count": null,
      "outputs": [
        {
          "output_type": "display_data",
          "data": {
            "image/png": "[encoded data removed]",
            "text/plain": [
              "<Figure size 432x288 with 1 Axes>"
            ]
          },
          "metadata": {
            "tags": []
          }
        },
        {
          "output_type": "display_data",
          "data": {
            "image/png": "[encoded data removed]",
            "text/plain": [
              "<Figure size 432x288 with 1 Axes>"
            ]
          },
          "metadata": {
            "tags": []
          }
        }
      ]
    },
    {
      "cell_type": "code",
      "metadata": {
        "id": "NiOxqY5HXslQ",
        "colab_type": "code",
        "colab": {
          "base_uri": "https://localhost:8080/",
          "height": 52
        },
        "outputId": "e658cb95-cb9d-453f-b26e-66714fa251cd"
      },
      "source": [
        "model.evaluate(test_generator, steps=50)"
      ],
      "execution_count": null,
      "outputs": [
        {
          "output_type": "stream",
          "text": [
            "50/50 [==============================] - 5s 91ms/step - loss: 0.2639 - acc: 0.8890\n"
          ],
          "name": "stdout"
        },
        {
          "output_type": "execute_result",
          "data": {
            "text/plain": [
              "[0.2639209032058716, 0.8889999985694885]"
            ]
          },
          "metadata": {
            "tags": []
          },
          "execution_count": 24
        }
      ]
    }
  ]
}